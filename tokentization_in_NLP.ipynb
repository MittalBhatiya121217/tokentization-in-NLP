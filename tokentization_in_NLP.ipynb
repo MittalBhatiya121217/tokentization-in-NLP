{
  "nbformat": 4,
  "nbformat_minor": 0,
  "metadata": {
    "colab": {
      "provenance": []
    },
    "kernelspec": {
      "name": "python3",
      "display_name": "Python 3"
    },
    "language_info": {
      "name": "python"
    }
  },
  "cells": [
    {
      "cell_type": "markdown",
      "source": [
        "**Install libraries for tokentization**"
      ],
      "metadata": {
        "id": "XaBHYjPIUDuj"
      }
    },
    {
      "cell_type": "code",
      "execution_count": null,
      "metadata": {
        "id": "TEkRBNc1THwt"
      },
      "outputs": [],
      "source": [
        "## required libraries that need to be installed\n",
        "%%capture\n",
        "!pip install -U spacy\n",
        "!pip install -U spacy-lookups-data\n",
        "!python -m spacy download en_core_web_sm"
      ]
    },
    {
      "cell_type": "markdown",
      "source": [
        "**Use doc.split() for tokenize**"
      ],
      "metadata": {
        "id": "LaMHirt8UTRB"
      }
    },
    {
      "cell_type": "code",
      "source": [
        "## tokenizing a piecen of text\n",
        "doc = \"I love coding and writing\"\n",
        "for i, w in enumerate(doc.split(\" \")):\n",
        "    print(\"Token \" + str(i) + \": \" + w)"
      ],
      "metadata": {
        "colab": {
          "base_uri": "https://localhost:8080/"
        },
        "id": "RSSSLzVkUCOr",
        "outputId": "2bcf01ea-46f7-4fa9-8f5f-2ef35e23ebc2"
      },
      "execution_count": null,
      "outputs": [
        {
          "output_type": "stream",
          "name": "stdout",
          "text": [
            "Token 0: I\n",
            "Token 1: love\n",
            "Token 2: coding\n",
            "Token 3: and\n",
            "Token 4: writing\n"
          ]
        }
      ]
    },
    {
      "cell_type": "markdown",
      "source": [
        "**Use text.strip() for solving issue of more white space.**"
      ],
      "metadata": {
        "id": "jo8G0n4LVYNi"
      }
    },
    {
      "cell_type": "code",
      "source": [
        "## tokenizing a piecen of text with more white space\n",
        "doc = \" I love coding and writing \"\n",
        "for i, w in enumerate(doc.split(\" \")):\n",
        "    print(\"Token \" + str(i) + \": \" + w)"
      ],
      "metadata": {
        "colab": {
          "base_uri": "https://localhost:8080/"
        },
        "id": "evkIvwwbVYiV",
        "outputId": "7996e299-7734-435a-96e4-b942359de599"
      },
      "execution_count": null,
      "outputs": [
        {
          "output_type": "stream",
          "name": "stdout",
          "text": [
            "Token 0: \n",
            "Token 1: I\n",
            "Token 2: love\n",
            "Token 3: coding\n",
            "Token 4: and\n",
            "Token 5: writing\n",
            "Token 6: \n"
          ]
        }
      ]
    },
    {
      "cell_type": "code",
      "source": [
        "## tokenizing a piecen of text with using text.strip()\n",
        "doc = \" I love coding and writing \"\n",
        "for i, w in enumerate(doc.strip()):\n",
        "    print(\"Token \" + str(i) + \": \" +w)"
      ],
      "metadata": {
        "colab": {
          "base_uri": "https://localhost:8080/"
        },
        "id": "04JpQIUlVzxF",
        "outputId": "7b2739f5-6e10-4e51-836d-a48cc6bc5252"
      },
      "execution_count": null,
      "outputs": [
        {
          "output_type": "stream",
          "name": "stdout",
          "text": [
            "Token 0: I\n",
            "Token 1:  \n",
            "Token 2: l\n",
            "Token 3: o\n",
            "Token 4: v\n",
            "Token 5: e\n",
            "Token 6:  \n",
            "Token 7: c\n",
            "Token 8: o\n",
            "Token 9: d\n",
            "Token 10: i\n",
            "Token 11: n\n",
            "Token 12: g\n",
            "Token 13:  \n",
            "Token 14: a\n",
            "Token 15: n\n",
            "Token 16: d\n",
            "Token 17:  \n",
            "Token 18: w\n",
            "Token 19: r\n",
            "Token 20: i\n",
            "Token 21: t\n",
            "Token 22: i\n",
            "Token 23: n\n",
            "Token 24: g\n"
          ]
        }
      ]
    },
    {
      "cell_type": "markdown",
      "source": [
        "**Use Spacy library for tokenization**"
      ],
      "metadata": {
        "id": "CS87CQljcvFO"
      }
    },
    {
      "cell_type": "code",
      "source": [
        "## import the libraries\n",
        "import spacy\n",
        "## load the language model\n",
        "nlp = spacy.load(\"en_core_web_sm\")\n",
        "\n",
        "## tokenization\n",
        "doc = nlp(\"This is the so-called lemmatization\")\n",
        "for token in doc:\n",
        "    print(token.text)"
      ],
      "metadata": {
        "colab": {
          "base_uri": "https://localhost:8080/"
        },
        "id": "TcVzlipEcvk7",
        "outputId": "902d4c18-2e22-4688-f903-18c2e7bd8c96"
      },
      "execution_count": null,
      "outputs": [
        {
          "output_type": "stream",
          "name": "stderr",
          "text": [
            "/usr/local/lib/python3.8/dist-packages/torch/cuda/__init__.py:497: UserWarning: Can't initialize NVML\n",
            "  warnings.warn(\"Can't initialize NVML\")\n"
          ]
        },
        {
          "output_type": "stream",
          "name": "stdout",
          "text": [
            "This\n",
            "is\n",
            "the\n",
            "so\n",
            "-\n",
            "called\n",
            "lemmatization\n"
          ]
        }
      ]
    },
    {
      "cell_type": "code",
      "source": [
        "## import the libraries\n",
        "import spacy\n",
        "## load the language model\n",
        "nlp = spacy.load(\"en_core_web_sm\")\n",
        "\n",
        "## tokenization\n",
        "doc = nlp(\"This is the so-called lemmatization\")\n",
        "for token in doc:\n",
        "    print(token.text, token.lemma_, token.pos_, token.tag_, token.dep_,\n",
        "            token.shape_, token.is_alpha, token.is_stop)"
      ],
      "metadata": {
        "colab": {
          "base_uri": "https://localhost:8080/"
        },
        "id": "DcmJQq8zhYDK",
        "outputId": "406e509e-caa1-4272-9f1a-73cb0a389da6"
      },
      "execution_count": null,
      "outputs": [
        {
          "output_type": "stream",
          "name": "stdout",
          "text": [
            "This this PRON DT nsubj Xxxx True True\n",
            "is be AUX VBZ ROOT xx True True\n",
            "the the DET DT det xxx True True\n",
            "so so ADV RB advmod xx True True\n",
            "- - PUNCT HYPH punct - False False\n",
            "called call VERB VBN amod xxxx True False\n",
            "lemmatization lemmatization NOUN NN attr xxxx True False\n"
          ]
        }
      ]
    },
    {
      "cell_type": "markdown",
      "source": [
        "**Tutorial-2 : Import libraries**"
      ],
      "metadata": {
        "id": "OTTN6iQdoNGv"
      }
    },
    {
      "cell_type": "code",
      "source": [
        "from bs4 import BeautifulSoup\n",
        "\n",
        "import urllib.request\n",
        "\n",
        "import nltk\n",
        "\n",
        "from nltk.corpus import stopwords"
      ],
      "metadata": {
        "id": "Oi9dx3JgoLyI"
      },
      "execution_count": null,
      "outputs": []
    },
    {
      "cell_type": "markdown",
      "source": [
        "**Use urllib module to crawl the web page.**"
      ],
      "metadata": {
        "id": "H66a37h2pC9a"
      }
    },
    {
      "cell_type": "code",
      "source": [
        "response = urllib.request.urlopen('http://php.net/')\n",
        "\n",
        "html = response.read()\n",
        "\n",
        "print(html)"
      ],
      "metadata": {
        "colab": {
          "base_uri": "https://localhost:8080/"
        },
        "id": "IfBbOJo1pDP9",
        "outputId": "e455f8cc-c73d-4e38-d8ab-8005e9a3cde7"
      },
      "execution_count": null,
      "outputs": [
        {
          "output_type": "stream",
          "name": "stdout",
          "text": [
            "b'<!DOCTYPE html>\\n<html xmlns=\"http://www.w3.org/1999/xhtml\" lang=\"en\">\\n<head>\\n\\n  <meta charset=\"utf-8\">\\n  <meta name=\"viewport\" content=\"width=device-width, initial-scale=1.0\">\\n\\n  <title>PHP: Hypertext Preprocessor</title>\\n\\n <link rel=\"icon\" type=\"image/svg+xml\" sizes=\"any\" href=\"https://www.php.net/favicon.svg?v=2\">\\n <link rel=\"icon\" type=\"image/png\" sizes=\"196x196\" href=\"https://www.php.net/favicon-196x196.png?v=2\">\\n <link rel=\"icon\" type=\"image/png\" sizes=\"32x32\" href=\"https://www.php.net/favicon-32x32.png?v=2\">\\n <link rel=\"icon\" type=\"image/png\" sizes=\"16x16\" href=\"https://www.php.net/favicon-16x16.png?v=2\">\\n <link rel=\"shortcut icon\" href=\"https://www.php.net/favicon.ico?v=2\">\\n\\n <link rel=\"search\" type=\"application/opensearchdescription+xml\" href=\"http://php.net/phpnetimprovedsearch.src\" title=\"Add PHP.net search\">\\n <link rel=\"alternate\" type=\"application/atom+xml\" href=\"https://www.php.net/releases/feed.php\" title=\"PHP Release feed\">\\n <link rel=\"alternate\" type=\"application/atom+xml\" href=\"https://www.php.net/feed.atom\" title=\"PHP: Hypertext Preprocessor\">\\n\\n <link rel=\"canonical\" href=\"https://www.php.net/index.php\">\\n <link rel=\"shorturl\" href=\"https://www.php.net/index\">\\n <link rel=\"alternate\" href=\"https://www.php.net/index\" hreflang=\"x-default\">\\n\\n\\n\\n<link rel=\"stylesheet\" type=\"text/css\" href=\"/cached.php?t=1639034403&amp;f=/fonts/Fira/fira.css\" media=\"screen\">\\n<link rel=\"stylesheet\" type=\"text/css\" href=\"/cached.php?t=1539765004&amp;f=/fonts/Font-Awesome/css/fontello.css\" media=\"screen\">\\n<link rel=\"stylesheet\" type=\"text/css\" href=\"/cached.php?t=1672843805&amp;f=/styles/theme-base.css\" media=\"screen\">\\n<link rel=\"stylesheet\" type=\"text/css\" href=\"/cached.php?t=1666013403&amp;f=/styles/theme-medium.css\" media=\"screen\">\\n<link rel=\"stylesheet\" type=\"text/css\" href=\"/cached.php?t=1662054602&amp;f=/styles/home.css\" media=\"screen\">\\n\\n <base href=\"https://www.php.net/index.php\">\\n\\n<meta name=\"Description\" content=\"PHP is a popular general-purpose scripting language that powers everything from your blog to the most popular websites in the world.\" />\\n\\n<meta name=\"twitter:card\" content=\"summary_large_image\" />\\n<meta name=\"twitter:site\" content=\"@official_php\" />\\n<meta name=\"twitter:title\" content=\"PHP: Hypertext Preprocessor\" />\\n<meta name=\"twitter:description\" content=\"PHP is a popular general-purpose scripting language that powers everything from your blog to the most popular websites in the world.\" />\\n<meta name=\"twitter:creator\" content=\"@official_php\" />\\n<meta name=\"twitter:image:src\" content=\"https://www.php.net/images/meta-image.png\" />\\n\\n<meta itemprop=\"name\" content=\"PHP: Hypertext Preprocessor\" />\\n<meta itemprop=\"description\" content=\"PHP is a popular general-purpose scripting language that powers everything from your blog to the most popular websites in the world.\" />\\n<meta itemprop=\"image\" content=\"https://www.php.net/images/meta-image.png\" />\\n\\n<meta property=\"og:image\" content=\"https://www.php.net/images/meta-image.png\" />\\n<meta property=\"og:description\" content=\"PHP is a popular general-purpose scripting language that powers everything from your blog to the most popular websites in the world.\" />\\n</head>\\n<body class=\"home \">\\n\\n<nav id=\"head-nav\" class=\"navbar navbar-fixed-top\">\\n  <div class=\"navbar-inner clearfix\">\\n    <a href=\"/\" class=\"brand\"><img src=\"/images/logos/php-logo.svg\" width=\"48\" height=\"24\" alt=\"php\"></a>\\n    <div id=\"mainmenu-toggle-overlay\"></div>\\n    <input type=\"checkbox\" id=\"mainmenu-toggle\">\\n    <ul class=\"nav\">\\n      <li class=\"\"><a href=\"/downloads\">Downloads</a></li>\\n      <li class=\"\"><a href=\"/docs.php\">Documentation</a></li>\\n      <li class=\"\"><a href=\"/get-involved\" >Get Involved</a></li>\\n      <li class=\"\"><a href=\"/support\">Help</a></li>\\n      <li class=\"\">\\n        <a href=\"/releases/8.2/index.php\">\\n          <img src=\"/images/php8/logo_php8_2.svg\" alt=\"php8.2\" height=\"22\" width=\"60\">\\n        </a>\\n      </li>\\n    </ul>\\n    <form class=\"navbar-search\" id=\"topsearch\" action=\"/search.php\">\\n      <input type=\"hidden\" name=\"show\" value=\"quickref\">\\n      <input type=\"search\" name=\"pattern\" class=\"search-query\" placeholder=\"Search\" accesskey=\"s\">\\n    </form>\\n  </div>\\n  <div id=\"flash-message\"></div>\\n</nav>\\n<nav id=\"trick\"><div><dl>\\n<dt><a href=\\'/manual/en/getting-started.php\\'>Getting Started</a></dt>\\n\\t<dd><a href=\\'/manual/en/introduction.php\\'>Introduction</a></dd>\\n\\t<dd><a href=\\'/manual/en/tutorial.php\\'>A simple tutorial</a></dd>\\n<dt><a href=\\'/manual/en/langref.php\\'>Language Reference</a></dt>\\n\\t<dd><a href=\\'/manual/en/language.basic-syntax.php\\'>Basic syntax</a></dd>\\n\\t<dd><a href=\\'/manual/en/language.types.php\\'>Types</a></dd>\\n\\t<dd><a href=\\'/manual/en/language.variables.php\\'>Variables</a></dd>\\n\\t<dd><a href=\\'/manual/en/language.constants.php\\'>Constants</a></dd>\\n\\t<dd><a href=\\'/manual/en/language.expressions.php\\'>Expressions</a></dd>\\n\\t<dd><a href=\\'/manual/en/language.operators.php\\'>Operators</a></dd>\\n\\t<dd><a href=\\'/manual/en/language.control-structures.php\\'>Control Structures</a></dd>\\n\\t<dd><a href=\\'/manual/en/language.functions.php\\'>Functions</a></dd>\\n\\t<dd><a href=\\'/manual/en/language.oop5.php\\'>Classes and Objects</a></dd>\\n\\t<dd><a href=\\'/manual/en/language.namespaces.php\\'>Namespaces</a></dd>\\n\\t<dd><a href=\\'/manual/en/language.enumerations.php\\'>Enumerations</a></dd>\\n\\t<dd><a href=\\'/manual/en/language.errors.php\\'>Errors</a></dd>\\n\\t<dd><a href=\\'/manual/en/language.exceptions.php\\'>Exceptions</a></dd>\\n\\t<dd><a href=\\'/manual/en/language.fibers.php\\'>Fibers</a></dd>\\n\\t<dd><a href=\\'/manual/en/language.generators.php\\'>Generators</a></dd>\\n\\t<dd><a href=\\'/manual/en/language.attributes.php\\'>Attributes</a></dd>\\n\\t<dd><a href=\\'/manual/en/language.references.php\\'>References Explained</a></dd>\\n\\t<dd><a href=\\'/manual/en/reserved.variables.php\\'>Predefined Variables</a></dd>\\n\\t<dd><a href=\\'/manual/en/reserved.exceptions.php\\'>Predefined Exceptions</a></dd>\\n\\t<dd><a href=\\'/manual/en/reserved.interfaces.php\\'>Predefined Interfaces and Classes</a></dd>\\n\\t<dd><a href=\\'/manual/en/reserved.attributes.php\\'>Predefined Attributes</a></dd>\\n\\t<dd><a href=\\'/manual/en/context.php\\'>Context options and parameters</a></dd>\\n\\t<dd><a href=\\'/manual/en/wrappers.php\\'>Supported Protocols and Wrappers</a></dd>\\n</dl>\\n<dl>\\n<dt><a href=\\'/manual/en/security.php\\'>Security</a></dt>\\n\\t<dd><a href=\\'/manual/en/security.intro.php\\'>Introduction</a></dd>\\n\\t<dd><a href=\\'/manual/en/security.general.php\\'>General considerations</a></dd>\\n\\t<dd><a href=\\'/manual/en/security.cgi-bin.php\\'>Installed as CGI binary</a></dd>\\n\\t<dd><a href=\\'/manual/en/security.apache.php\\'>Installed as an Apache module</a></dd>\\n\\t<dd><a href=\\'/manual/en/security.sessions.php\\'>Session Security</a></dd>\\n\\t<dd><a href=\\'/manual/en/security.filesystem.php\\'>Filesystem Security</a></dd>\\n\\t<dd><a href=\\'/manual/en/security.database.php\\'>Database Security</a></dd>\\n\\t<dd><a href=\\'/manual/en/security.errors.php\\'>Error Reporting</a></dd>\\n\\t<dd><a href=\\'/manual/en/security.variables.php\\'>User Submitted Data</a></dd>\\n\\t<dd><a href=\\'/manual/en/security.hiding.php\\'>Hiding PHP</a></dd>\\n\\t<dd><a href=\\'/manual/en/security.current.php\\'>Keeping Current</a></dd>\\n<dt><a href=\\'/manual/en/features.php\\'>Features</a></dt>\\n\\t<dd><a href=\\'/manual/en/features.http-auth.php\\'>HTTP authentication with PHP</a></dd>\\n\\t<dd><a href=\\'/manual/en/features.cookies.php\\'>Cookies</a></dd>\\n\\t<dd><a href=\\'/manual/en/features.sessions.php\\'>Sessions</a></dd>\\n\\t<dd><a href=\\'/manual/en/features.xforms.php\\'>Dealing with XForms</a></dd>\\n\\t<dd><a href=\\'/manual/en/features.file-upload.php\\'>Handling file uploads</a></dd>\\n\\t<dd><a href=\\'/manual/en/features.remote-files.php\\'>Using remote files</a></dd>\\n\\t<dd><a href=\\'/manual/en/features.connection-handling.php\\'>Connection handling</a></dd>\\n\\t<dd><a href=\\'/manual/en/features.persistent-connections.php\\'>Persistent Database Connections</a></dd>\\n\\t<dd><a href=\\'/manual/en/features.commandline.php\\'>Command line usage</a></dd>\\n\\t<dd><a href=\\'/manual/en/features.gc.php\\'>Garbage Collection</a></dd>\\n\\t<dd><a href=\\'/manual/en/features.dtrace.php\\'>DTrace Dynamic Tracing</a></dd>\\n</dl>\\n<dl>\\n<dt><a href=\\'/manual/en/funcref.php\\'>Function Reference</a></dt>\\n\\t<dd><a href=\\'/manual/en/refs.basic.php.php\\'>Affecting PHP\\'s Behaviour</a></dd>\\n\\t<dd><a href=\\'/manual/en/refs.utilspec.audio.php\\'>Audio Formats Manipulation</a></dd>\\n\\t<dd><a href=\\'/manual/en/refs.remote.auth.php\\'>Authentication Services</a></dd>\\n\\t<dd><a href=\\'/manual/en/refs.utilspec.cmdline.php\\'>Command Line Specific Extensions</a></dd>\\n\\t<dd><a href=\\'/manual/en/refs.compression.php\\'>Compression and Archive Extensions</a></dd>\\n\\t<dd><a href=\\'/manual/en/refs.crypto.php\\'>Cryptography Extensions</a></dd>\\n\\t<dd><a href=\\'/manual/en/refs.database.php\\'>Database Extensions</a></dd>\\n\\t<dd><a href=\\'/manual/en/refs.calendar.php\\'>Date and Time Related Extensions</a></dd>\\n\\t<dd><a href=\\'/manual/en/refs.fileprocess.file.php\\'>File System Related Extensions</a></dd>\\n\\t<dd><a href=\\'/manual/en/refs.international.php\\'>Human Language and Character Encoding Support</a></dd>\\n\\t<dd><a href=\\'/manual/en/refs.utilspec.image.php\\'>Image Processing and Generation</a></dd>\\n\\t<dd><a href=\\'/manual/en/refs.remote.mail.php\\'>Mail Related Extensions</a></dd>\\n\\t<dd><a href=\\'/manual/en/refs.math.php\\'>Mathematical Extensions</a></dd>\\n\\t<dd><a href=\\'/manual/en/refs.utilspec.nontext.php\\'>Non-Text MIME Output</a></dd>\\n\\t<dd><a href=\\'/manual/en/refs.fileprocess.process.php\\'>Process Control Extensions</a></dd>\\n\\t<dd><a href=\\'/manual/en/refs.basic.other.php\\'>Other Basic Extensions</a></dd>\\n\\t<dd><a href=\\'/manual/en/refs.remote.other.php\\'>Other Services</a></dd>\\n\\t<dd><a href=\\'/manual/en/refs.search.php\\'>Search Engine Extensions</a></dd>\\n\\t<dd><a href=\\'/manual/en/refs.utilspec.server.php\\'>Server Specific Extensions</a></dd>\\n\\t<dd><a href=\\'/manual/en/refs.basic.session.php\\'>Session Extensions</a></dd>\\n\\t<dd><a href=\\'/manual/en/refs.basic.text.php\\'>Text Processing</a></dd>\\n\\t<dd><a href=\\'/manual/en/refs.basic.vartype.php\\'>Variable and Type Related Extensions</a></dd>\\n\\t<dd><a href=\\'/manual/en/refs.webservice.php\\'>Web Services</a></dd>\\n\\t<dd><a href=\\'/manual/en/refs.utilspec.windows.php\\'>Windows Only Extensions</a></dd>\\n\\t<dd><a href=\\'/manual/en/refs.xml.php\\'>XML Manipulation</a></dd>\\n\\t<dd><a href=\\'/manual/en/refs.ui.php\\'>GUI Extensions</a></dd>\\n</dl>\\n<dl>\\n<dt>Keyboard Shortcuts</dt><dt>?</dt>\\n<dd>This help</dd>\\n<dt>j</dt>\\n<dd>Next menu item</dd>\\n<dt>k</dt>\\n<dd>Previous menu item</dd>\\n<dt>g p</dt>\\n<dd>Previous man page</dd>\\n<dt>g n</dt>\\n<dd>Next man page</dd>\\n<dt>G</dt>\\n<dd>Scroll to bottom</dd>\\n<dt>g g</dt>\\n<dd>Scroll to top</dd>\\n<dt>g h</dt>\\n<dd>Goto homepage</dd>\\n<dt>g s</dt>\\n<dd>Goto search<br>(current page)</dd>\\n<dt>/</dt>\\n<dd>Focus search box</dd>\\n</dl></div></nav>\\n<div id=\"goto\">\\n    <div class=\"search\">\\n         <div class=\"text\"></div>\\n         <div class=\"results\"><ul></ul></div>\\n   </div>\\n</div>\\n\\n\\n\\n<div id=\"intro\" class=\"clearfix\">\\n  <div class=\"container\">\\n      <div class=\"hero\">\\n    <img class=\"hero-logo\" src=\"/images/logos/php-logo-white.svg\" alt=\"php\" width=\"240\" height=\"120\">\\n    <p class=\"hero-text\">A <strong>popular general-purpose scripting language</strong> that is especially suited to web development.<br />Fast, flexible and pragmatic, PHP powers everything from your blog to the most popular websites in the world.</p>\\n    <div class=\"hero-actions\">\\n      <a href=\"/releases/8.2/index.php\" class=\"hero-btn hero-btn-primary\">What\\'s new in 8.2</a>\\n      <a href=\"/downloads.php\" class=\"hero-btn hero-btn-secondary\">Download</a>\\n    </div><ul class=\\'hero-versions\\'>\\n\\n            <li class=\\'hero-version\\'><a class=\\'hero-version-link\\' href=\\'/downloads.php#v8.2.1\\'>8.2.1</a> &middot; <a class=\\'notes\\' href=\\'/ChangeLog-8.php#8.2.1\\'>Changelog</a> &middot; <a class=\\'notes\\' href=\\'/migration82\\'>Upgrading</a></li>\\n\\n            <li class=\\'hero-version\\'><a class=\\'hero-version-link\\' href=\\'/downloads.php#v8.1.14\\'>8.1.14</a> &middot; <a class=\\'notes\\' href=\\'/ChangeLog-8.php#8.1.14\\'>Changelog</a> &middot; <a class=\\'notes\\' href=\\'/migration81\\'>Upgrading</a></li>\\n\\n            <li class=\\'hero-version\\'><a class=\\'hero-version-link\\' href=\\'/downloads.php#v8.0.27\\'>8.0.27</a> &middot; <a class=\\'notes\\' href=\\'/ChangeLog-8.php#8.0.27\\'>Changelog</a> &middot; <a class=\\'notes\\' href=\\'/migration80\\'>Upgrading</a></li>\\n</ul>\\n  </div>  </div>\\n</div>\\n\\n\\n<div id=\"layout\" class=\"clearfix\">\\n  <section id=\"layout-content\">\\n<div class=\\'home-content\\'><article class=\"newsentry\">\\n  <header class=\"title\">\\n    <time datetime=\"2023-01-05T19:00:22+00:00\">05 Jan 2023</time>\\n    <h2 class=\"newstitle\">\\n      <a href=\"https://www.php.net/archive/2023.php#2023-01-05-3\" id=\"2023-01-05-3\">PHP 8.0.27 Released!</a>\\n    </h2>\\n  </header>\\n  <div class=\"newscontent\">\\n    <div><p>The PHP development team announces the immediate availability of PHP 8.0.27. This is a security release.</p>\\n\\n<p>All PHP 8.0 users are encouraged to upgrade to this version.</p>\\n\\n<p>For source downloads of PHP 8.0.27 please visit our <a href=\"https://www.php.net/downloads.php\">downloads page</a>,\\nWindows source and binaries can be found on <a href=\"https://windows.php.net/download/\">windows.php.net/download/</a>.\\nThe list of changes is recorded in the <a href=\"https://www.php.net/ChangeLog-8.php#8.0.27\">ChangeLog</a>.\\n</p>    </div>\\n  \\n  </div>\\n</article><article class=\"newsentry\">\\n  <header class=\"title\">\\n    <time datetime=\"2023-01-05T18:34:21+00:00\">05 Jan 2023</time>\\n    <h2 class=\"newstitle\">\\n      <a href=\"https://www.php.net/archive/2023.php#2023-01-05-2\" id=\"2023-01-05-2\">PHP 8.2.1 Released!</a>\\n    </h2>\\n  </header>\\n  <div class=\"newscontent\">\\n    <div><p>The PHP development team announces the immediate availability of PHP 8.2.1. This is a security release.</p>\\n\\n<p>All PHP 8.2 users are encouraged to upgrade to this version.</p>\\n\\n<p>For source downloads of PHP 8.2.1 please visit our <a href=\"https://www.php.net/downloads.php\">downloads page</a>,\\nWindows source and binaries can be found on <a href=\"https://windows.php.net/download/\">windows.php.net/download/</a>.\\nThe list of changes is recorded in the <a href=\"https://www.php.net/ChangeLog-8.php#8.2.1\">ChangeLog</a>.\\n</p>    </div>\\n  \\n  </div>\\n</article><article class=\"newsentry\">\\n  <header class=\"title\">\\n    <time datetime=\"2023-01-05T17:47:14+00:00\">05 Jan 2023</time>\\n    <h2 class=\"newstitle\">\\n      <a href=\"https://www.php.net/archive/2023.php#2023-01-05-1\" id=\"2023-01-05-1\">PHP 8.1.14 Released!</a>\\n    </h2>\\n  </header>\\n  <div class=\"newscontent\">\\n    <div><p>The PHP development team announces the immediate availability of PHP 8.1.14. This is a security release.</p>\\n\\n<p>All PHP 8.1 users are encouraged to upgrade to this version.</p>\\n\\n<p>For source downloads of PHP 8.1.14 please visit our <a href=\"https://www.php.net/downloads.php\">downloads page</a>,\\nWindows source and binaries can be found on <a href=\"https://windows.php.net/download/\">windows.php.net/download/</a>.\\nThe list of changes is recorded in the <a href=\"https://www.php.net/ChangeLog-8.php#8.1.14\">ChangeLog</a>.\\n</p>    </div>\\n  \\n  </div>\\n</article><article class=\"newsentry\">\\n  <header class=\"title\">\\n    <time datetime=\"2022-12-08T06:26:27+00:00\">08 Dec 2022</time>\\n    <h2 class=\"newstitle\">\\n      <a href=\"https://www.php.net/archive/2022.php#2022-12-08-1\" id=\"2022-12-08-1\">PHP 8.2.0 Released!</a>\\n    </h2>\\n  </header>\\n  <div class=\"newscontent\">\\n    <div>\\n      <p>The PHP development team announces the immediate availability of PHP 8.2.0. This release marks the latest minor release of the PHP language.</p>\\n      <p>PHP 8.2 comes with numerous improvements and new features such as:</p>\\n      <ul>\\n        <li><a href=\"https://www.php.net/manual/en/language.oop5.basic.php#language.oop5.basic.class.readonly\">Readonly classes</a></li>\\n        <li><a href=\"https://www.php.net/manual/en/migration82.new-features.php#migration82.new-features.core.type-system\">Disjunctive Normal Form (DNF) Types</a></li>\\n        <li>New stand-alone types: <a href=\"https://wiki.php.net/rfc/null-false-standalone-types\">null, false</a>, and <a href=\"https://wiki.php.net/rfc/true-type\">true</a></li>\\n        <li><a href=\"https://www.php.net/manual/en/book.random.php\">New \"Random\" extension</a></li>\\n        <li><a href=\"https://www.php.net/manual/en/migration82.new-features.php#migration82.new-features.core.constant-in-traits\">Constants in traits</a></li>\\n        <li><a href=\"https://www.php.net/manual/en/migration82.deprecated.php#migration82.deprecated.core.dynamic-properties\">Deprecate dynamic properties</a></li>\\n        <li>And much much more...</li>\\n      </ul>\\n      <p>\\n        For source downloads of PHP 8.2.0 please visit our <a href=\"https://www.php.net/downloads.php\">downloads page</a>,\\n        Windows source and binaries can be found on <a href=\"https://windows.php.net/download/\">windows.php.net/download/</a>.\\n        The list of changes is recorded in the <a href=\"https://www.php.net/ChangeLog-8.php#8.2.0\">ChangeLog</a>.\\n      </p>\\n      <p>\\n        The <a href=\"https://php.net/manual/en/migration82.php\">migration guide</a> is available in the PHP Manual.\\n        Please consult it for the detailed list of new features and backward incompatible changes.\\n      </p>\\n      <p>Kudos to all the contributors and supporters!</p>\\n    </div>\\n  \\n  </div>\\n</article><article class=\"newsentry\">\\n  <header class=\"title\">\\n    <time datetime=\"2022-11-26T17:48:14+00:00\">26 Nov 2022</time>\\n    <h2 class=\"newstitle\">\\n      <a href=\"https://www.php.net/archive/2022.php#2022-11-26-1\" id=\"2022-11-26-1\">PHP 8.0.26 Released!</a>\\n    </h2>\\n  </header>\\n  <div class=\"newscontent\">\\n    <div><p>The PHP development team announces the immediate availability of PHP 8.0.26. This is a bug fix release.</p>\\n\\n<p>All PHP 8.0 users are encouraged to upgrade to this version.</p>\\n\\n<p>For source downloads of PHP 8.0.26 please visit our <a href=\"https://www.php.net/downloads.php\">downloads page</a>,\\nWindows source and binaries can be found on <a href=\"https://windows.php.net/download/\">windows.php.net/download/</a>.\\nThe list of changes is recorded in the <a href=\"https://www.php.net/ChangeLog-8.php#8.0.26\">ChangeLog</a>.\\n</p>    \\n\\n<p>Please note, this is the last bug-fix release for the 8.0.x series.\\nSecurity fix support will continue until 26 Nov 2023.\\nFor more information, please check our\\n<a href=\"https://www.php.net/supported-versions.php\">Supported Versions</a> page.</p>\\n     </div>\\n  \\n  </div>\\n</article><article class=\"newsentry\">\\n  <header class=\"title\">\\n    <time datetime=\"2022-11-24T15:43:33+00:00\">24 Nov 2022</time>\\n    <h2 class=\"newstitle\">\\n      <a href=\"https://www.php.net/archive/2022.php#2022-11-24-2\" id=\"2022-11-24-2\">PHP 8.2.0 RC7 available for testing</a>\\n    </h2>\\n  </header>\\n  <div class=\"newscontent\">\\n    <div>\\n     <p>\\n      The PHP team is pleased to announce the release of PHP 8.2.0, RC 7.\\n      This is the seventh release candidate, continuing the PHP 8.2\\n      release cycle, the rough outline of which is specified in the\\n      <a href=\"https://wiki.php.net/todo/php82\">PHP Wiki</a>.\\n     </p>\\n     <p>\\n      For source downloads of PHP 8.2.0, RC 7 please visit the\\n      <a href=\"https://downloads.php.net/~pierrick/\">download page</a>.\\n     </p>\\n     <p>\\n      Please carefully test this version and report any issues found in the\\n      <a href=\"https://github.com/php/php-src/issues\">bug reporting system</a>.\\n     </p>\\n     <p><b>Please DO NOT use this version in production, it is an early test version.</b></p>\\n     <p>\\n      For more information on the new features and other changes, you can read the\\n      <a href=\"https://github.com/php/php-src/blob/php-8.2.0RC7/NEWS\">NEWS</a> file\\n      or the <a href=\"https://github.com/php/php-src/blob/php-8.2.0RC7/UPGRADING\">UPGRADING</a>\\n      file for a complete list of upgrading notes. These files can also be\\n      found in the release archive.\\n     </p>\\n     <p>\\n      The next release will be the production-ready, general availability\\n      release, planned for December 8th 2022.\\n     </p>\\n     <p>\\n      The signatures for the release can be found in\\n      <a href=\"https://gist.github.com/adoy/4d1230e5a9afceb95f1fd028b05d1a07\">the manifest</a>\\n       or on <a href=\"https://qa.php.net/\">the QA site</a>.\\n     </p>\\n     <p>Thank you for helping us make PHP better.</p>\\n    </div>\\n  \\n  </div>\\n</article><article class=\"newsentry\">\\n  <header class=\"title\">\\n    <time datetime=\"2022-11-24T14:21:02+00:00\">24 Nov 2022</time>\\n    <h2 class=\"newstitle\">\\n      <a href=\"https://www.php.net/archive/2022.php#2022-11-24-1\" id=\"2022-11-24-1\">PHP 8.1.13 Released!</a>\\n    </h2>\\n  </header>\\n  <div class=\"newscontent\">\\n    <div><p>The PHP development team announces the immediate availability of PHP 8.1.13. This is a bug fix release.</p>\\n\\n<p>All PHP 8.1 users are encouraged to upgrade to this version.</p>\\n\\n<p>For source downloads of PHP 8.1.13 please visit our <a href=\"https://www.php.net/downloads.php\">downloads page</a>,\\nWindows source and binaries can be found on <a href=\"https://windows.php.net/download/\">windows.php.net/download/</a>.\\nThe list of changes is recorded in the <a href=\"https://www.php.net/ChangeLog-8.php#8.1.13\">ChangeLog</a>.\\n</p>    </div>\\n  \\n  </div>\\n</article><article class=\"newsentry\">\\n  <header class=\"title\">\\n    <time datetime=\"2022-11-10T13:30:00+00:00\">10 Nov 2022</time>\\n    <h2 class=\"newstitle\">\\n      <a href=\"https://www.php.net/archive/2022.php#2022-11-10-1\" id=\"2022-11-10-1\">PHP 8.2.0 RC 6 available for testing</a>\\n    </h2>\\n  </header>\\n  <div class=\"newscontent\">\\n    <div>\\n     <p>\\n      The PHP team is pleased to announce the release of PHP 8.2.0, RC 6.\\n      This is the sixth release candidate, continuing the PHP 8.2\\n      release cycle, the rough outline of which is specified in the\\n      <a href=\"https://wiki.php.net/todo/php82\">PHP Wiki</a>.\\n     </p>\\n     <p>\\n      For source downloads of PHP 8.2.0, RC 6 please visit the\\n      <a href=\"https://downloads.php.net/~sergey/\">download page</a>.\\n     </p>\\n     <p>\\n      Please carefully test this version and report any issues found in the\\n      <a href=\"https://github.com/php/php-src/issues\">bug reporting system</a>.\\n     </p>\\n     <p><b>Please DO NOT use this version in production, it is an early test version.</b></p>\\n     <p>\\n      For more information on the new features and other changes, you can read the\\n      <a href=\"https://github.com/php/php-src/blob/php-8.2.0RC6/NEWS\">NEWS</a> file\\n      or the <a href=\"https://github.com/php/php-src/blob/php-8.2.0RC6/UPGRADING\">UPGRADING</a>\\n      file for a complete list of upgrading notes. These files can also be\\n      found in the release archive.\\n     </p>\\n     <p>\\n      The next release will be the seventh release candidate (RC 7), planned for Nov 24th 2022.\\n     </p>\\n     <p>\\n      The signatures for the release can be found in\\n      <a href=\"https://gist.github.com/saundefined/2195c0175f329aaaab302c191c221e13\">the manifest</a>\\n      or on <a href=\"https://qa.php.net/\">the QA site</a>.\\n     </p>\\n     <p>Thank you for helping us make PHP better.</p>\\n    </div>\\n  \\n  </div>\\n</article><article class=\"newsentry\">\\n  <header class=\"title\">\\n    <time datetime=\"2022-11-03T08:28:02+00:00\">03 Nov 2022</time>\\n    <h2 class=\"newstitle\">\\n      <a href=\"https://www.php.net/archive/2022.php#2022-11-03-1\" id=\"2022-11-03-1\">PHP 7.4.33 Released!</a>\\n    </h2>\\n  </header>\\n  <div class=\"newscontent\">\\n    <div><p>The PHP development team announces the immediate availability of PHP 7.4.33.</p>\\n\\n<p>This is security release that fixes an OOB read due to insufficient\\ninput validation in imageloadfont(), and a buffer overflow in\\nhash_update() on long parameter.</p>\\n\\n<p>All PHP 7.4 users are encouraged to upgrade to this version.</p>\\n\\n<p>For source downloads of PHP 7.4.33 please visit our <a href=\"https://www.php.net/downloads.php\">downloads page</a>,\\nWindows source and binaries can be found on <a href=\"https://windows.php.net/download/\">windows.php.net/download/</a>.\\nThe list of changes is recorded in the <a href=\"https://www.php.net/ChangeLog-7.php#7.4.33\">ChangeLog</a>.\\n</p>    </div>\\n  \\n  </div>\\n</article><article class=\"newsentry\">\\n  <header class=\"title\">\\n    <time datetime=\"2022-10-28T14:20:26+00:00\">28 Oct 2022</time>\\n    <h2 class=\"newstitle\">\\n      <a href=\"https://www.php.net/archive/2022.php#2022-10-28-2\" id=\"2022-10-28-2\">PHP 8.1.12 Released!</a>\\n    </h2>\\n  </header>\\n  <div class=\"newscontent\">\\n    <div><p>The PHP development team announces the immediate availability of PHP 8.1.12. This is a security release.</p>\\n\\n<p>All PHP 8.1 users are encouraged to upgrade to this version.</p>\\n\\n<p>For source downloads of PHP 8.1.12 please visit our <a href=\"https://www.php.net/downloads.php\">downloads page</a>,\\nWindows source and binaries can be found on <a href=\"https://windows.php.net/download/\">windows.php.net/download/</a>.\\nThe list of changes is recorded in the <a href=\"https://www.php.net/ChangeLog-8.php#8.1.12\">ChangeLog</a>.\\n</p>    </div>\\n  \\n  </div>\\n</article><article class=\"newsentry\">\\n  <header class=\"title\">\\n    <time datetime=\"2022-10-28T09:40:48+00:00\">28 Oct 2022</time>\\n    <h2 class=\"newstitle\">\\n      <a href=\"https://www.php.net/archive/2022.php#2022-10-28-1\" id=\"2022-10-28-1\">PHP 8.0.25 Released!</a>\\n    </h2>\\n  </header>\\n  <div class=\"newscontent\">\\n    <div><p>The PHP development team announces the immediate availability of PHP 8.0.25. This is a security fix release.</p>\\n\\n<p>All PHP 8.0 users are encouraged to upgrade to this version.</p>\\n\\n<p>For source downloads of PHP 8.0.25 please visit our <a href=\"https://www.php.net/downloads.php\">downloads page</a>,\\nWindows source and binaries can be found on <a href=\"https://windows.php.net/download/\">windows.php.net/download/</a>.\\nThe list of changes is recorded in the <a href=\"https://www.php.net/ChangeLog-8.php#8.0.25\">ChangeLog</a>.\\n</p>    </div>\\n  \\n  </div>\\n</article><article class=\"newsentry\">\\n  <header class=\"title\">\\n    <time datetime=\"2022-10-27T17:48:08+00:00\">27 Oct 2022</time>\\n    <h2 class=\"newstitle\">\\n      <a href=\"https://www.php.net/archive/2022.php#2022-10-27-1\" id=\"2022-10-27-1\">PHP 8.2.0 RC5 available for testing</a>\\n    </h2>\\n  </header>\\n  <div class=\"newscontent\">\\n    <div>\\n     <p>The PHP team is pleased to announce the fifth release candidate of PHP 8.2.0, RC 5. This continues the PHP 8.2 release cycle, the rough outline of which is specified in the <a href=\"https://wiki.php.net/todo/php82\">PHP Wiki</a>.</p>\\n     <p>For source downloads of PHP 8.2.0 RC5 please visit the <a href=\"https://downloads.php.net/~pierrick\">download page</a>.</p>\\n     <p>Please carefully test this version and report any issues found in the <a href=\"https://github.com/php/php-src/issues\">bug reporting system</a>.</p>\\n     <p><strong>Please DO NOT use this version in production, it is an early test version.</strong></p>\\n     <p>For more information on the new features and other changes, you can read the <a href=\"https://github.com/php/php-src/blob/php-8.2.0RC5/NEWS\">NEWS</a> file, or the <a href=\"https://github.com/php/php-src/blob/php-8.2.0RC5/UPGRADING\">UPGRADING</a> file for a complete list of upgrading notes. These files can also be found in the release archive.</p>\\n     <p>The next release will be the sixth release candidate (RC 6), planned for Nov 10th 2022.</p>\\n     <p>The signatures for the release can be found in the <a href=\"https://gist.github.com/adoy/81b78cd31b6e74b6a7ba791f62f726a0\">manifest</a> or on the <a href=\"https://qa.php.net/\">QA site</a>.</p>\\n     <p>Thank you for helping us make PHP better.</p>\\n    </div>\\n  \\n  </div>\\n</article><article class=\"newsentry\">\\n  <header class=\"title\">\\n    <time datetime=\"2022-10-13T09:05:11+00:00\">13 Oct 2022</time>\\n    <h2 class=\"newstitle\">\\n      <a href=\"https://www.php.net/archive/2022.php#2022-10-13-1\" id=\"2022-10-13-1\">PHP 8.2.0 RC 4 available for testing</a>\\n    </h2>\\n  </header>\\n  <div class=\"newscontent\">\\n    <div>\\n     <p>\\n     \\tThe PHP team is pleased to announce the release of PHP 8.2.0, RC 4.\\n     \\tThis is the fourth release candidate, continuing the PHP 8.2 release cycle,\\n     \\tthe rough outline of which is specified in the\\n     \\t<a href=\"https://wiki.php.net/todo/php82\">PHP Wiki</a>.\\n     </p>\\n     <p>\\n     \\tFor source downloads of PHP 8.2.0, RC 4 please visit the\\n     \\t<a href=\"https://downloads.php.net/~sergey/\">download page</a>.\\n     </p>\\n     <p>\\n     \\tPlease carefully test this version and report any issues found in the\\n     \\t<a href=\"https://github.com/php/php-src/issues\">bug reporting system</a>.\\n     </p>\\n     <p><b>Please DO NOT use this version in production, it is an early test version.</b></p>\\n     <p>\\n     \\tFor more information on the new features and other changes, you can read the\\n     \\t<a href=\"https://github.com/php/php-src/blob/php-8.2.0RC4/NEWS\">NEWS</a> file\\n     \\tor the <a href=\"https://github.com/php/php-src/blob/php-8.2.0RC4/UPGRADING\">UPGRADING</a>\\n     \\tfile for a complete list of upgrading notes. These files can also be\\n     \\tfound in the release archive.\\n     </p>\\n     <p>\\n     \\tThe next release will be the fifth release candidate (RC 5), planned\\n     \\tfor 27 October 2022.\\n     </p>\\n     <p>\\n     \\tThe signatures for the release can be found in\\n     \\t<a href=\"https://gist.github.com/saundefined/ce2995354d384b5c8feafd3f246cc3d2\">the manifest</a>\\n     \\tor on <a href=\"https://qa.php.net/\">the QA site</a>.\\n     </p>\\n     <p>Thank you for helping us make PHP better.</p>\\n    </div>\\n  \\n  </div>\\n</article><article class=\"newsentry\">\\n  <header class=\"title\">\\n    <time datetime=\"2022-09-30T03:13:42+00:00\">30 Sep 2022</time>\\n    <h2 class=\"newstitle\">\\n      <a href=\"https://www.php.net/archive/2022.php#2022-09-30-1\" id=\"2022-09-30-1\">PHP 8.0.24 Released!</a>\\n    </h2>\\n  </header>\\n  <div class=\"newscontent\">\\n    <div><p>The PHP development team announces the immediate availability of PHP 8.0.24. This is a security release.</p>\\n\\n<p>All PHP 8.0 users are encouraged to upgrade to this version.</p>\\n\\n<p>For source downloads of PHP 8.0.24 please visit our <a href=\"https://www.php.net/downloads.php\">downloads page</a>,\\nWindows source and binaries can be found on <a href=\"https://windows.php.net/download/\">windows.php.net/download/</a>.\\nThe list of changes is recorded in the <a href=\"https://www.php.net/ChangeLog-8.php#8.0.24\">ChangeLog</a>.\\n</p>    </div>\\n  \\n  </div>\\n</article><article class=\"newsentry\">\\n  <header class=\"title\">\\n    <time datetime=\"2022-09-29T17:26:40+00:00\">29 Sep 2022</time>\\n    <h2 class=\"newstitle\">\\n      <a href=\"https://www.php.net/archive/2022.php#2022-09-29-3\" id=\"2022-09-29-3\">PHP 8.2.0 RC3 available for testing</a>\\n    </h2>\\n  </header>\\n  <div class=\"newscontent\">\\n    <div>\\n     <p>The PHP team is pleased to announce the third release candidate of PHP 8.2.0, RC 3. This continues the PHP 8.2 release cycle, the rough outline of which is specified in the <a href=\"https://wiki.php.net/todo/php82\">PHP Wiki</a>.</p>\\n     <p>For source downloads of PHP 8.2.0 RC3 please visit the <a href=\"https://downloads.php.net/~pierrick\">download page</a>.</p>\\n     <p>Please carefully test this version and report any issues found in the <a href=\"https://github.com/php/php-src/issues\">bug reporting system</a>.</p>\\n     <p><strong>Please DO NOT use this version in production, it is an early test version.</strong></p>\\n     <p>For more information on the new features and other changes, you can read the <a href=\"https://github.com/php/php-src/blob/php-8.2.0RC3/NEWS\">NEWS</a> file, or the <a href=\"https://github.com/php/php-src/blob/php-8.2.0RC3/UPGRADING\">UPGRADING</a> file for a complete list of upgrading notes. These files can also be found in the release archive.</p>\\n     <p>The next release will be the fourth release candidate (RC 4), planned for Oct 13th 2022.</p>\\n     <p>The signatures for the release can be found in the <a href=\"https://gist.github.com/adoy/d1e85cad30593765c73042f4616b2ee9\">manifest</a> or on the <a href=\"https://qa.php.net/\">QA site</a>.</p>\\n     <p>Thank you for helping us make PHP better.</p>\\n    </div>\\n  \\n  </div>\\n</article><article class=\"newsentry\">\\n  <header class=\"title\">\\n    <time datetime=\"2022-09-29T15:28:59+00:00\">29 Sep 2022</time>\\n    <h2 class=\"newstitle\">\\n      <a href=\"https://www.php.net/archive/2022.php#2022-09-29-2\" id=\"2022-09-29-2\">PHP 8.1.11 Released!</a>\\n    </h2>\\n  </header>\\n  <div class=\"newscontent\">\\n    <div><p>The PHP development team announces the immediate availability of PHP 8.1.11. This is a security release.</p>\\n\\n<p>All PHP 8.1 users are encouraged to upgrade to this version.</p>\\n\\n<p>For source downloads of PHP 8.1.11 please visit our <a href=\"https://www.php.net/downloads.php\">downloads page</a>,\\nWindows source and binaries can be found on <a href=\"https://windows.php.net/download/\">windows.php.net/download/</a>.\\nThe list of changes is recorded in the <a href=\"https://www.php.net/ChangeLog-8.php#8.1.11\">ChangeLog</a>.\\n</p>    </div>\\n  \\n  </div>\\n</article><article class=\"newsentry\">\\n  <header class=\"title\">\\n    <time datetime=\"2022-09-29T09:39:00+00:00\">29 Sep 2022</time>\\n    <h2 class=\"newstitle\">\\n      <a href=\"https://www.php.net/archive/2022.php#2022-09-29-1\" id=\"2022-09-29-1\">PHP 7.4.32 Released!</a>\\n    </h2>\\n  </header>\\n  <div class=\"newscontent\">\\n    <div><p>The PHP development team announces the immediate availability of PHP 7.4.32. This is a security release.</p>\\n\\n<p>This release addresses an infinite recursion with specially\\nconstructed phar files, and prevents a clash with variable name mangling for\\nthe __Host/__Secure HTTP headers.</p>\\n\\n<p>All PHP 7.4 users are encouraged to upgrade to this version.</p>\\n\\n<p>For source downloads of PHP 7.4.32 please visit our <a href=\"https://www.php.net/downloads.php\">downloads page</a>,\\nWindows source and binaries can be found on <a href=\"https://windows.php.net/download/\">windows.php.net/download/</a>.\\nThe list of changes is recorded in the <a href=\"https://www.php.net/ChangeLog-7.php#7.4.32\">ChangeLog</a>.\\n</p>    </div>\\n  \\n  </div>\\n</article><article class=\"newsentry\">\\n  <header class=\"title\">\\n    <time datetime=\"2022-09-15T07:15:53+00:00\">15 Sep 2022</time>\\n    <h2 class=\"newstitle\">\\n      <a href=\"https://www.php.net/archive/2022.php#2022-09-15-1\" id=\"2022-09-15-1\">PHP 8.2.0 RC2 available for testing</a>\\n    </h2>\\n  </header>\\n  <div class=\"newscontent\">\\n    <div>\\n      <p>\\n        The PHP team is pleased to announce the release of PHP 8.2.0, RC 2.\\n        This is the second release candidate, continuing the PHP 8.2 release cycle,\\n        the rough outline of which is specified in the\\n        <a href=\"https://wiki.php.net/todo/php82\">PHP Wiki</a>.\\n      </p>\\n      <p>\\n        For source downloads of PHP 8.2.0, RC 2 please visit the\\n        <a href=\"https://downloads.php.net/~sergey/\">download page</a>.\\n      </p>\\n      <p>\\n        Please carefully test this version and report any issues found in the\\n        <a href=\"https://github.com/php/php-src/issues\">bug reporting system</a>.\\n      </p>\\n      <p>\\n        <b>Please DO NOT use this version in production, it is an early test version.</b>\\n      </p>\\n      <p>\\n        For more information on the new features and other changes, you can read the\\n        <a href=\"https://github.com/php/php-src/blob/php-8.2.0RC2/NEWS\">NEWS</a>\\n        file\\n        or the\\n        <a href=\"https://github.com/php/php-src/blob/php-8.2.0RC2/UPGRADING\">UPGRADING</a>\\n        file for a complete list of upgrading notes. These files can also be\\n        found in the release archive.\\n      </p>\\n      <p>\\n        The next release will be the third release candidate (RC 3), planned\\n        for 29 September 2022.\\n      </p>\\n      <p>\\n        The signatures for the release can be found in\\n        <a href=\"https://gist.github.com/saundefined/d86e6eeab140eaf90f6924fe1343ee92\">the manifest</a>\\n        or on <a href=\"https://qa.php.net/\">the QA site</a>.\\n      </p>\\n      <p>Thank you for helping us make PHP better.</p>\\n    </div>\\n  \\n  </div>\\n</article><article class=\"newsentry\">\\n  <header class=\"title\">\\n    <time datetime=\"2022-09-01T14:11:24+00:00\">01 Sep 2022</time>\\n    <h2 class=\"newstitle\">\\n      <a href=\"https://www.php.net/archive/2022.php#2022-09-01-4\" id=\"2022-09-01-4\">PHP 8.2.0 RC1 available for testing</a>\\n    </h2>\\n  </header>\\n  <div class=\"newscontent\">\\n    <div>\\n     <p>The PHP team is pleased to announce the first release candidate of PHP 8.2.0, RC 1. This continues the PHP 8.2 release cycle, the rough outline of which is specified in the <a href=\"https://wiki.php.net/todo/php82\">PHP Wiki</a>.</p>\\n     <p>For source downloads of PHP 8.2.0 RC1 please visit the <a href=\"https://downloads.php.net/~pierrick\">download page</a>.</p>\\n     <p>Please carefully test this version and report any issues found in the <a href=\"https://github.com/php/php-src/issues\">bug reporting system</a>.</p>\\n     <p><strong>Please DO NOT use this version in production, it is an early test version.</strong></p>\\n     <p>For more information on the new features and other changes, you can read the <a href=\"https://github.com/php/php-src/blob/php-8.2.0RC1/NEWS\">NEWS</a> file, or the <a href=\"https://github.com/php/php-src/blob/php-8.2.0RC1/UPGRADING\">UPGRADING</a> file for a complete list of upgrading notes. These files can also be found in the release archive.</p>\\n     <p>The next release will be the second release candidate (RC 2), planned for Sept 15th 2022.</p>\\n     <p>The signatures for the release can be found in the <a href=\"https://gist.github.com/adoy/81e5a7c88dfded5237fffe0341d5d5d8\">manifest</a> or on the <a href=\"https://qa.php.net/\">QA site</a>.</p>\\n     <p>Thank you for helping us make PHP better.</p>\\n    </div>\\n  \\n  </div>\\n</article><article class=\"newsentry\">\\n  <header class=\"title\">\\n    <time datetime=\"2022-09-01T13:20:39+00:00\">01 Sep 2022</time>\\n    <h2 class=\"newstitle\">\\n      <a href=\"https://www.php.net/archive/2022.php#2022-09-01-3\" id=\"2022-09-01-3\">PHP 8.0.23 Released!</a>\\n    </h2>\\n  </header>\\n  <div class=\"newscontent\">\\n    <div><p>The PHP development team announces the immediate availability of PHP 8.0.23. This is a security release.</p>\\n\\n<p>All PHP 8.0 users are encouraged to upgrade to this version.</p>\\n\\n<p>For source downloads of PHP 8.0.23 please visit our <a href=\"https://www.php.net/downloads.php\">downloads page</a>,\\nWindows source and binaries can be found on <a href=\"https://windows.php.net/download/\">windows.php.net/download/</a>.\\nThe list of changes is recorded in the <a href=\"https://www.php.net/ChangeLog-8.php#8.0.23\">ChangeLog</a>.\\n</p>    </div>\\n  \\n  </div>\\n</article><article class=\"newsentry\">\\n  <header class=\"title\">\\n    <time datetime=\"2022-09-01T00:18:05+00:00\">01 Sep 2022</time>\\n    <h2 class=\"newstitle\">\\n      <a href=\"https://www.php.net/archive/2022.php#2022-09-01-1\" id=\"2022-09-01-1\">PHP 8.1.10 Released!</a>\\n    </h2>\\n  </header>\\n  <div class=\"newscontent\">\\n    <div><p>The PHP development team announces the immediate availability of PHP 8.1.10. This is a bug fix release.</p>\\n\\n<p>All PHP 8.1 users are encouraged to upgrade to this version.</p>\\n\\n<p>For source downloads of PHP 8.1.10 please visit our <a href=\"https://www.php.net/downloads.php\">downloads page</a>,\\nWindows source and binaries can be found on <a href=\"https://windows.php.net/download/\">windows.php.net/download/</a>.\\nThe list of changes is recorded in the <a href=\"https://www.php.net/ChangeLog-8.php#8.1.10\">ChangeLog</a>.\\n</p>    </div>\\n  \\n  </div>\\n</article><article class=\"newsentry\">\\n  <header class=\"title\">\\n    <time datetime=\"2022-08-18T14:54:08+00:00\">18 Aug 2022</time>\\n    <h2 class=\"newstitle\">\\n      <a href=\"https://www.php.net/archive/2022.php#2022-08-18-1\" id=\"2022-08-18-1\">PHP 8.2.0 Beta 3 available for testing</a>\\n    </h2>\\n  </header>\\n  <div class=\"newscontent\">\\n    <div>\\n     <p>The PHP team is pleased to announce the third beta release of PHP 8.2.0, Beta 3. This continues the PHP 8.2 release cycle, the rough outline of which is specified in the <a href=\"https://wiki.php.net/todo/php82\">PHP Wiki</a>.</p>\\n     <p>For source downloads of PHP 8.2.0 Beta 3 please visit the <a href=\"https://downloads.php.net/~pierrick\">download page</a>.</p>\\n     <p>Please carefully test this version and report any issues found in the <a href=\"https://github.com/php/php-src/issues\">bug reporting system</a>.</p>\\n     <p><strong>Please DO NOT use this version in production, it is an early test version.</strong></p>\\n     <p>For more information on the new features and other changes, you can read the <a href=\"https://github.com/php/php-src/blob/php-8.2.0beta3/NEWS\">NEWS</a> file, or the <a href=\"https://github.com/php/php-src/blob/php-8.2.0beta3/UPGRADING\">UPGRADING</a> file for a complete list of upgrading notes. These files can also be found in the release archive.</p>\\n     <p>The next release will be the first release candidate (RC 1), planned for Sept 1 2022.</p>\\n     <p>The signatures for the release can be found in the <a href=\"https://gist.github.com/adoy/37f80d10531f0250f4111a7b3034e357\">manifest</a> or on the <a href=\"https://qa.php.net/\">QA site</a>.</p>\\n     <p>Thank you for helping us make PHP better.</p>\\n    </div>\\n  \\n  </div>\\n</article><article class=\"newsentry\">\\n  <header class=\"title\">\\n    <time datetime=\"2022-08-04T14:33:51+02:00\">04 Aug 2022</time>\\n    <h2 class=\"newstitle\">\\n      <a href=\"https://www.php.net/archive/2022.php#2022-08-04-3\" id=\"2022-08-04-3\">PHP 8.1.9 Released!</a>\\n    </h2>\\n  </header>\\n  <div class=\"newscontent\">\\n    <div><p>The PHP development team announces the immediate availability of PHP 8.1.9. This is a bug fix release.</p>\\n\\n<p>All PHP 8.1 users are encouraged to upgrade to this version.</p>\\n\\n<p>For source downloads of PHP 8.1.9 please visit our <a href=\"https://www.php.net/downloads.php\">downloads page</a>,\\nWindows source and binaries can be found on <a href=\"https://windows.php.net/download/\">windows.php.net/download/</a>.\\nThe list of changes is recorded in the <a href=\"https://www.php.net/ChangeLog-8.php#8.1.9\">ChangeLog</a>.\\n</p>    </div>\\n  \\n  </div>\\n</article><article class=\"newsentry\">\\n  <header class=\"title\">\\n    <time datetime=\"2022-08-04T08:30:47+00:00\">04 Aug 2022</time>\\n    <h2 class=\"newstitle\">\\n      <a href=\"https://www.php.net/archive/2022.php#2022-08-04-2\" id=\"2022-08-04-2\">PHP 8.2.0 Beta 2 available for testing</a>\\n    </h2>\\n  </header>\\n  <div class=\"newscontent\">\\n    <div>\\n      <p>The PHP team is pleased to announce the second beta release of PHP 8.2.0, Beta 2. This continues the PHP 8.2 release cycle, the rough outline of which is specified in the <a href=\"https://wiki.php.net/todo/php82\">PHP Wiki</a>.</p>\\n      <p>For source downloads of PHP 8.2.0 Beta 2 please visit the <a href=\"https://downloads.php.net/~sergey\">download page</a>.</p>\\n      <p>Please carefully test this version and report any issues found in the <a href=\"https://github.com/php/php-src/issues\">bug reporting system</a>.</p>\\n      <p><strong>Please DO NOT use this version in production, it is an early test version.</strong></p>\\n      <p>For more information on the new features and other changes, you can read the <a href=\"https://github.com/php/php-src/blob/php-8.2.0beta2/NEWS\">NEWS</a> file, or the <a href=\"https://github.com/php/php-src/blob/php-8.2.0beta2/UPGRADING\">UPGRADING</a> file for a complete list of upgrading notes. These files can also be found in the release archive.</p>\\n      <p>The next release will be PHP 8.2.0 Beta 3, planned for Aug 18 2022.</p>\\n      <p>The signatures for the release can be found in the <a href=\"https://gist.github.com/saundefined/1540f44aa0f70fd37bb71817db37c47a\">manifest</a> or on the <a href=\"https://qa.php.net/\">QA site</a>.</p>\\n      <p>Thank you for helping us make PHP better.</p>\\n    </div>\\n  \\n  </div>\\n</article><article class=\"newsentry\">\\n  <header class=\"title\">\\n    <time datetime=\"2022-08-04T08:10:19+00:00\">04 Aug 2022</time>\\n    <h2 class=\"newstitle\">\\n      <a href=\"https://www.php.net/archive/2022.php#2022-08-04-1\" id=\"2022-08-04-1\">PHP 8.0.22 Released!</a>\\n    </h2>\\n  </header>\\n  <div class=\"newscontent\">\\n    <div><p>The PHP development team announces the immediate availability of PHP 8.0.22. This is a bug fix release.</p>\\n\\n<p>All PHP 8.0 users are encouraged to upgrade to this version.</p>\\n\\n<p>For source downloads of PHP 8.0.22 please visit our <a href=\"https://www.php.net/downloads.php\">downloads page</a>,\\nWindows source and binaries can be found on <a href=\"https://windows.php.net/download/\">windows.php.net/download/</a>.\\nThe list of changes is recorded in the <a href=\"https://www.php.net/ChangeLog-8.php#8.0.22\">ChangeLog</a>.\\n</p>    </div>\\n  \\n  </div>\\n</article><p class=\"archive\"><a href=\"/archive/\">Older News Entries</a></p></div>    </section><!-- layout-content -->\\n    \\n<aside class=\"tips\">\\n    <div class=\"inner\">\\n<div class=\"panel\">  <a href=\"/conferences\" class=\"headline\" title=\"Upcoming conferences\">Upcoming conferences</a><div class=\"body\"><ul><li><a href=\\'https://www.php.net/conferences/index.php#2022-12-06-1\\' title=\\'International PHP Conference Berlin 2023\\'>International PHP Conference Berlin 2023</a></li><li><a href=\\'https://www.php.net/conferences/index.php#2022-10-19-2\\' title=\\'php[tek] 2023 - Chicago, IL\\'>php[tek] 2023 - Chicago, IL</a></li></ul></div></div>\\n    <p class=\\'panel\\'><a href=\\'/cal.php\\'>User Group Events</a></p>\\n    <p class=\\'panel\\'><a href=\\'/thanks.php\\'>Special Thanks</a></p>\\n    <div class=\\'panel social-media\\'>\\n      <span class=\\'headline\\'>Social media</span>\\n      <div class=\\'body\\'>\\n        <ul>\\n          <li>\\n            <a href=\"https://twitter.com/official_php\">\\n              <i class=\"icon-twitter\"></i>\\n              @official_php\\n            </a>\\n          </li>\\n        </ul>\\n      </div>\\n    </div>\\n</div>\\n</aside>\\n\\n  </div><!-- layout -->\\n\\n  <footer>\\n    <div class=\"container footer-content\">\\n      <div class=\"row-fluid\">\\n      <ul class=\"footmenu\">\\n        <li><a href=\"/copyright.php\">Copyright &copy; 2001-2023 The PHP Group</a></li>\\n        <li><a href=\"/my.php\">My PHP.net</a></li>\\n        <li><a href=\"/contact.php\">Contact</a></li>\\n        <li><a href=\"/sites.php\">Other PHP.net sites</a></li>\\n        <li><a href=\"/privacy.php\">Privacy policy</a></li>\\n        <li><a href=\"https://github.com/php/web-php/blob/master/index.php\">View Source</a></li>\\n      </ul>\\n      </div>\\n    </div>\\n  </footer>\\n\\n    <div class=\\'elephpants\\'><div class=images></div></div>\\n <!-- External and third party libraries. -->\\n <script src=\"https://code.jquery.com/jquery-3.6.0.min.js\" integrity=\"sha256-/xUj+3OJU5yExlq6GSYGSHk7tPXikynS7ogEvDej/m4=\" crossorigin=\"anonymous\"></script>\\n<script src=\"/cached.php?t=1657730402&amp;f=/js/ext/hogan-3.0.2.min.js\"></script>\\n<script src=\"/cached.php?t=1421837618&amp;f=/js/ext/typeahead.min.js\"></script>\\n<script src=\"/cached.php?t=1657876202&amp;f=/js/ext/mousetrap.min.js\"></script>\\n<script src=\"/cached.php?t=1657730402&amp;f=/js/ext/jquery.scrollTo.min.js\"></script>\\n<script src=\"/cached.php?t=1653918602&amp;f=/js/search.js\"></script>\\n<script src=\"/cached.php?t=1671018002&amp;f=/js/common.js\"></script>\\n\\n<a id=\"toTop\" href=\"javascript:;\"><span id=\"toTopHover\"></span><img width=\"40\" height=\"40\" alt=\"To Top\" src=\"/images/to-top@2x.png\"></a>\\n\\n</body>\\n</html>\\n'\n"
          ]
        }
      ]
    },
    {
      "cell_type": "markdown",
      "source": [
        "**Use Beautifulsoup to clean grabbed text and html tags**\n",
        "\n",
        "\n",
        "\n"
      ],
      "metadata": {
        "id": "xyQ1J4v0rzHG"
      }
    },
    {
      "cell_type": "code",
      "source": [
        "soup = BeautifulSoup(html,\"html5lib\")\n",
        "\n",
        "text = soup.get_text(strip=True)\n",
        "\n",
        "print(text)"
      ],
      "metadata": {
        "colab": {
          "base_uri": "https://localhost:8080/"
        },
        "id": "eVgn-2Cgrza3",
        "outputId": "b06e782c-5874-473c-ef7f-d40a4dc7df78"
      },
      "execution_count": null,
      "outputs": [
        {
          "output_type": "stream",
          "name": "stdout",
          "text": [
            "PHP: Hypertext PreprocessorDownloadsDocumentationGet InvolvedHelpGetting StartedIntroductionA simple tutorialLanguage ReferenceBasic syntaxTypesVariablesConstantsExpressionsOperatorsControl StructuresFunctionsClasses and ObjectsNamespacesEnumerationsErrorsExceptionsFibersGeneratorsAttributesReferences ExplainedPredefined VariablesPredefined ExceptionsPredefined Interfaces and ClassesPredefined AttributesContext options and parametersSupported Protocols and WrappersSecurityIntroductionGeneral considerationsInstalled as CGI binaryInstalled as an Apache moduleSession SecurityFilesystem SecurityDatabase SecurityError ReportingUser Submitted DataHiding PHPKeeping CurrentFeaturesHTTP authentication with PHPCookiesSessionsDealing with XFormsHandling file uploadsUsing remote filesConnection handlingPersistent Database ConnectionsCommand line usageGarbage CollectionDTrace Dynamic TracingFunction ReferenceAffecting PHP's BehaviourAudio Formats ManipulationAuthentication ServicesCommand Line Specific ExtensionsCompression and Archive ExtensionsCryptography ExtensionsDatabase ExtensionsDate and Time Related ExtensionsFile System Related ExtensionsHuman Language and Character Encoding SupportImage Processing and GenerationMail Related ExtensionsMathematical ExtensionsNon-Text MIME OutputProcess Control ExtensionsOther Basic ExtensionsOther ServicesSearch Engine ExtensionsServer Specific ExtensionsSession ExtensionsText ProcessingVariable and Type Related ExtensionsWeb ServicesWindows Only ExtensionsXML ManipulationGUI ExtensionsKeyboard Shortcuts?This helpjNext menu itemkPrevious menu itemg pPrevious man pageg nNext man pageGScroll to bottomg gScroll to topg hGoto homepageg sGoto search(current page)/Focus search boxApopular general-purpose scripting languagethat is especially suited to web development.Fast, flexible and pragmatic, PHP powers everything from your blog to the most popular websites in the world.What's new in 8.2Download8.2.1·Changelog·Upgrading8.1.14·Changelog·Upgrading8.0.27·Changelog·Upgrading05 Jan 2023PHP 8.0.27 Released!The PHP development team announces the immediate availability of PHP 8.0.27. This is a security release.All PHP 8.0 users are encouraged to upgrade to this version.For source downloads of PHP 8.0.27 please visit ourdownloads page,\n",
            "Windows source and binaries can be found onwindows.php.net/download/.\n",
            "The list of changes is recorded in theChangeLog.05 Jan 2023PHP 8.2.1 Released!The PHP development team announces the immediate availability of PHP 8.2.1. This is a security release.All PHP 8.2 users are encouraged to upgrade to this version.For source downloads of PHP 8.2.1 please visit ourdownloads page,\n",
            "Windows source and binaries can be found onwindows.php.net/download/.\n",
            "The list of changes is recorded in theChangeLog.05 Jan 2023PHP 8.1.14 Released!The PHP development team announces the immediate availability of PHP 8.1.14. This is a security release.All PHP 8.1 users are encouraged to upgrade to this version.For source downloads of PHP 8.1.14 please visit ourdownloads page,\n",
            "Windows source and binaries can be found onwindows.php.net/download/.\n",
            "The list of changes is recorded in theChangeLog.08 Dec 2022PHP 8.2.0 Released!The PHP development team announces the immediate availability of PHP 8.2.0. This release marks the latest minor release of the PHP language.PHP 8.2 comes with numerous improvements and new features such as:Readonly classesDisjunctive Normal Form (DNF) TypesNew stand-alone types:null, false, andtrueNew \"Random\" extensionConstants in traitsDeprecate dynamic propertiesAnd much much more...For source downloads of PHP 8.2.0 please visit ourdownloads page,\n",
            "        Windows source and binaries can be found onwindows.php.net/download/.\n",
            "        The list of changes is recorded in theChangeLog.Themigration guideis available in the PHP Manual.\n",
            "        Please consult it for the detailed list of new features and backward incompatible changes.Kudos to all the contributors and supporters!26 Nov 2022PHP 8.0.26 Released!The PHP development team announces the immediate availability of PHP 8.0.26. This is a bug fix release.All PHP 8.0 users are encouraged to upgrade to this version.For source downloads of PHP 8.0.26 please visit ourdownloads page,\n",
            "Windows source and binaries can be found onwindows.php.net/download/.\n",
            "The list of changes is recorded in theChangeLog.Please note, this is the last bug-fix release for the 8.0.x series.\n",
            "Security fix support will continue until 26 Nov 2023.\n",
            "For more information, please check ourSupported Versionspage.24 Nov 2022PHP 8.2.0 RC7 available for testingThe PHP team is pleased to announce the release of PHP 8.2.0, RC 7.\n",
            "      This is the seventh release candidate, continuing the PHP 8.2\n",
            "      release cycle, the rough outline of which is specified in thePHP Wiki.For source downloads of PHP 8.2.0, RC 7 please visit thedownload page.Please carefully test this version and report any issues found in thebug reporting system.Please DO NOT use this version in production, it is an early test version.For more information on the new features and other changes, you can read theNEWSfile\n",
            "      or theUPGRADINGfile for a complete list of upgrading notes. These files can also be\n",
            "      found in the release archive.The next release will be the production-ready, general availability\n",
            "      release, planned for December 8th 2022.The signatures for the release can be found inthe manifestor onthe QA site.Thank you for helping us make PHP better.24 Nov 2022PHP 8.1.13 Released!The PHP development team announces the immediate availability of PHP 8.1.13. This is a bug fix release.All PHP 8.1 users are encouraged to upgrade to this version.For source downloads of PHP 8.1.13 please visit ourdownloads page,\n",
            "Windows source and binaries can be found onwindows.php.net/download/.\n",
            "The list of changes is recorded in theChangeLog.10 Nov 2022PHP 8.2.0 RC 6 available for testingThe PHP team is pleased to announce the release of PHP 8.2.0, RC 6.\n",
            "      This is the sixth release candidate, continuing the PHP 8.2\n",
            "      release cycle, the rough outline of which is specified in thePHP Wiki.For source downloads of PHP 8.2.0, RC 6 please visit thedownload page.Please carefully test this version and report any issues found in thebug reporting system.Please DO NOT use this version in production, it is an early test version.For more information on the new features and other changes, you can read theNEWSfile\n",
            "      or theUPGRADINGfile for a complete list of upgrading notes. These files can also be\n",
            "      found in the release archive.The next release will be the seventh release candidate (RC 7), planned for Nov 24th 2022.The signatures for the release can be found inthe manifestor onthe QA site.Thank you for helping us make PHP better.03 Nov 2022PHP 7.4.33 Released!The PHP development team announces the immediate availability of PHP 7.4.33.This is security release that fixes an OOB read due to insufficient\n",
            "input validation in imageloadfont(), and a buffer overflow in\n",
            "hash_update() on long parameter.All PHP 7.4 users are encouraged to upgrade to this version.For source downloads of PHP 7.4.33 please visit ourdownloads page,\n",
            "Windows source and binaries can be found onwindows.php.net/download/.\n",
            "The list of changes is recorded in theChangeLog.28 Oct 2022PHP 8.1.12 Released!The PHP development team announces the immediate availability of PHP 8.1.12. This is a security release.All PHP 8.1 users are encouraged to upgrade to this version.For source downloads of PHP 8.1.12 please visit ourdownloads page,\n",
            "Windows source and binaries can be found onwindows.php.net/download/.\n",
            "The list of changes is recorded in theChangeLog.28 Oct 2022PHP 8.0.25 Released!The PHP development team announces the immediate availability of PHP 8.0.25. This is a security fix release.All PHP 8.0 users are encouraged to upgrade to this version.For source downloads of PHP 8.0.25 please visit ourdownloads page,\n",
            "Windows source and binaries can be found onwindows.php.net/download/.\n",
            "The list of changes is recorded in theChangeLog.27 Oct 2022PHP 8.2.0 RC5 available for testingThe PHP team is pleased to announce the fifth release candidate of PHP 8.2.0, RC 5. This continues the PHP 8.2 release cycle, the rough outline of which is specified in thePHP Wiki.For source downloads of PHP 8.2.0 RC5 please visit thedownload page.Please carefully test this version and report any issues found in thebug reporting system.Please DO NOT use this version in production, it is an early test version.For more information on the new features and other changes, you can read theNEWSfile, or theUPGRADINGfile for a complete list of upgrading notes. These files can also be found in the release archive.The next release will be the sixth release candidate (RC 6), planned for Nov 10th 2022.The signatures for the release can be found in themanifestor on theQA site.Thank you for helping us make PHP better.13 Oct 2022PHP 8.2.0 RC 4 available for testingThe PHP team is pleased to announce the release of PHP 8.2.0, RC 4.\n",
            "     \tThis is the fourth release candidate, continuing the PHP 8.2 release cycle,\n",
            "     \tthe rough outline of which is specified in thePHP Wiki.For source downloads of PHP 8.2.0, RC 4 please visit thedownload page.Please carefully test this version and report any issues found in thebug reporting system.Please DO NOT use this version in production, it is an early test version.For more information on the new features and other changes, you can read theNEWSfile\n",
            "     \tor theUPGRADINGfile for a complete list of upgrading notes. These files can also be\n",
            "     \tfound in the release archive.The next release will be the fifth release candidate (RC 5), planned\n",
            "     \tfor 27 October 2022.The signatures for the release can be found inthe manifestor onthe QA site.Thank you for helping us make PHP better.30 Sep 2022PHP 8.0.24 Released!The PHP development team announces the immediate availability of PHP 8.0.24. This is a security release.All PHP 8.0 users are encouraged to upgrade to this version.For source downloads of PHP 8.0.24 please visit ourdownloads page,\n",
            "Windows source and binaries can be found onwindows.php.net/download/.\n",
            "The list of changes is recorded in theChangeLog.29 Sep 2022PHP 8.2.0 RC3 available for testingThe PHP team is pleased to announce the third release candidate of PHP 8.2.0, RC 3. This continues the PHP 8.2 release cycle, the rough outline of which is specified in thePHP Wiki.For source downloads of PHP 8.2.0 RC3 please visit thedownload page.Please carefully test this version and report any issues found in thebug reporting system.Please DO NOT use this version in production, it is an early test version.For more information on the new features and other changes, you can read theNEWSfile, or theUPGRADINGfile for a complete list of upgrading notes. These files can also be found in the release archive.The next release will be the fourth release candidate (RC 4), planned for Oct 13th 2022.The signatures for the release can be found in themanifestor on theQA site.Thank you for helping us make PHP better.29 Sep 2022PHP 8.1.11 Released!The PHP development team announces the immediate availability of PHP 8.1.11. This is a security release.All PHP 8.1 users are encouraged to upgrade to this version.For source downloads of PHP 8.1.11 please visit ourdownloads page,\n",
            "Windows source and binaries can be found onwindows.php.net/download/.\n",
            "The list of changes is recorded in theChangeLog.29 Sep 2022PHP 7.4.32 Released!The PHP development team announces the immediate availability of PHP 7.4.32. This is a security release.This release addresses an infinite recursion with specially\n",
            "constructed phar files, and prevents a clash with variable name mangling for\n",
            "the __Host/__Secure HTTP headers.All PHP 7.4 users are encouraged to upgrade to this version.For source downloads of PHP 7.4.32 please visit ourdownloads page,\n",
            "Windows source and binaries can be found onwindows.php.net/download/.\n",
            "The list of changes is recorded in theChangeLog.15 Sep 2022PHP 8.2.0 RC2 available for testingThe PHP team is pleased to announce the release of PHP 8.2.0, RC 2.\n",
            "        This is the second release candidate, continuing the PHP 8.2 release cycle,\n",
            "        the rough outline of which is specified in thePHP Wiki.For source downloads of PHP 8.2.0, RC 2 please visit thedownload page.Please carefully test this version and report any issues found in thebug reporting system.Please DO NOT use this version in production, it is an early test version.For more information on the new features and other changes, you can read theNEWSfile\n",
            "        or theUPGRADINGfile for a complete list of upgrading notes. These files can also be\n",
            "        found in the release archive.The next release will be the third release candidate (RC 3), planned\n",
            "        for 29 September 2022.The signatures for the release can be found inthe manifestor onthe QA site.Thank you for helping us make PHP better.01 Sep 2022PHP 8.2.0 RC1 available for testingThe PHP team is pleased to announce the first release candidate of PHP 8.2.0, RC 1. This continues the PHP 8.2 release cycle, the rough outline of which is specified in thePHP Wiki.For source downloads of PHP 8.2.0 RC1 please visit thedownload page.Please carefully test this version and report any issues found in thebug reporting system.Please DO NOT use this version in production, it is an early test version.For more information on the new features and other changes, you can read theNEWSfile, or theUPGRADINGfile for a complete list of upgrading notes. These files can also be found in the release archive.The next release will be the second release candidate (RC 2), planned for Sept 15th 2022.The signatures for the release can be found in themanifestor on theQA site.Thank you for helping us make PHP better.01 Sep 2022PHP 8.0.23 Released!The PHP development team announces the immediate availability of PHP 8.0.23. This is a security release.All PHP 8.0 users are encouraged to upgrade to this version.For source downloads of PHP 8.0.23 please visit ourdownloads page,\n",
            "Windows source and binaries can be found onwindows.php.net/download/.\n",
            "The list of changes is recorded in theChangeLog.01 Sep 2022PHP 8.1.10 Released!The PHP development team announces the immediate availability of PHP 8.1.10. This is a bug fix release.All PHP 8.1 users are encouraged to upgrade to this version.For source downloads of PHP 8.1.10 please visit ourdownloads page,\n",
            "Windows source and binaries can be found onwindows.php.net/download/.\n",
            "The list of changes is recorded in theChangeLog.18 Aug 2022PHP 8.2.0 Beta 3 available for testingThe PHP team is pleased to announce the third beta release of PHP 8.2.0, Beta 3. This continues the PHP 8.2 release cycle, the rough outline of which is specified in thePHP Wiki.For source downloads of PHP 8.2.0 Beta 3 please visit thedownload page.Please carefully test this version and report any issues found in thebug reporting system.Please DO NOT use this version in production, it is an early test version.For more information on the new features and other changes, you can read theNEWSfile, or theUPGRADINGfile for a complete list of upgrading notes. These files can also be found in the release archive.The next release will be the first release candidate (RC 1), planned for Sept 1 2022.The signatures for the release can be found in themanifestor on theQA site.Thank you for helping us make PHP better.04 Aug 2022PHP 8.1.9 Released!The PHP development team announces the immediate availability of PHP 8.1.9. This is a bug fix release.All PHP 8.1 users are encouraged to upgrade to this version.For source downloads of PHP 8.1.9 please visit ourdownloads page,\n",
            "Windows source and binaries can be found onwindows.php.net/download/.\n",
            "The list of changes is recorded in theChangeLog.04 Aug 2022PHP 8.2.0 Beta 2 available for testingThe PHP team is pleased to announce the second beta release of PHP 8.2.0, Beta 2. This continues the PHP 8.2 release cycle, the rough outline of which is specified in thePHP Wiki.For source downloads of PHP 8.2.0 Beta 2 please visit thedownload page.Please carefully test this version and report any issues found in thebug reporting system.Please DO NOT use this version in production, it is an early test version.For more information on the new features and other changes, you can read theNEWSfile, or theUPGRADINGfile for a complete list of upgrading notes. These files can also be found in the release archive.The next release will be PHP 8.2.0 Beta 3, planned for Aug 18 2022.The signatures for the release can be found in themanifestor on theQA site.Thank you for helping us make PHP better.04 Aug 2022PHP 8.0.22 Released!The PHP development team announces the immediate availability of PHP 8.0.22. This is a bug fix release.All PHP 8.0 users are encouraged to upgrade to this version.For source downloads of PHP 8.0.22 please visit ourdownloads page,\n",
            "Windows source and binaries can be found onwindows.php.net/download/.\n",
            "The list of changes is recorded in theChangeLog.Older News EntriesUpcoming conferencesInternational PHP Conference Berlin 2023php[tek] 2023 - Chicago, ILUser Group EventsSpecial ThanksSocial media@official_phpCopyright © 2001-2023 The PHP GroupMy PHP.netContactOther PHP.net sitesPrivacy policyView Source\n"
          ]
        }
      ]
    },
    {
      "cell_type": "markdown",
      "source": [
        "**Convert text into tokens by splitting the text**"
      ],
      "metadata": {
        "id": "_6zkHcr_tw7C"
      }
    },
    {
      "cell_type": "code",
      "source": [
        "soup = BeautifulSoup(html,\"html5lib\")\n",
        "\n",
        "text = soup.get_text(strip=True)\n",
        "\n",
        "\n",
        "tokens = [t for t in text.split()]\n",
        "\n",
        "print(tokens)"
      ],
      "metadata": {
        "colab": {
          "base_uri": "https://localhost:8080/"
        },
        "id": "v36CD5WUtxNB",
        "outputId": "6caf68a7-b5c1-44ec-a3fc-b8c841399d59"
      },
      "execution_count": null,
      "outputs": [
        {
          "output_type": "stream",
          "name": "stdout",
          "text": [
            "['PHP:', 'Hypertext', 'PreprocessorDownloadsDocumentationGet', 'InvolvedHelpGetting', 'StartedIntroductionA', 'simple', 'tutorialLanguage', 'ReferenceBasic', 'syntaxTypesVariablesConstantsExpressionsOperatorsControl', 'StructuresFunctionsClasses', 'and', 'ObjectsNamespacesEnumerationsErrorsExceptionsFibersGeneratorsAttributesReferences', 'ExplainedPredefined', 'VariablesPredefined', 'ExceptionsPredefined', 'Interfaces', 'and', 'ClassesPredefined', 'AttributesContext', 'options', 'and', 'parametersSupported', 'Protocols', 'and', 'WrappersSecurityIntroductionGeneral', 'considerationsInstalled', 'as', 'CGI', 'binaryInstalled', 'as', 'an', 'Apache', 'moduleSession', 'SecurityFilesystem', 'SecurityDatabase', 'SecurityError', 'ReportingUser', 'Submitted', 'DataHiding', 'PHPKeeping', 'CurrentFeaturesHTTP', 'authentication', 'with', 'PHPCookiesSessionsDealing', 'with', 'XFormsHandling', 'file', 'uploadsUsing', 'remote', 'filesConnection', 'handlingPersistent', 'Database', 'ConnectionsCommand', 'line', 'usageGarbage', 'CollectionDTrace', 'Dynamic', 'TracingFunction', 'ReferenceAffecting', \"PHP's\", 'BehaviourAudio', 'Formats', 'ManipulationAuthentication', 'ServicesCommand', 'Line', 'Specific', 'ExtensionsCompression', 'and', 'Archive', 'ExtensionsCryptography', 'ExtensionsDatabase', 'ExtensionsDate', 'and', 'Time', 'Related', 'ExtensionsFile', 'System', 'Related', 'ExtensionsHuman', 'Language', 'and', 'Character', 'Encoding', 'SupportImage', 'Processing', 'and', 'GenerationMail', 'Related', 'ExtensionsMathematical', 'ExtensionsNon-Text', 'MIME', 'OutputProcess', 'Control', 'ExtensionsOther', 'Basic', 'ExtensionsOther', 'ServicesSearch', 'Engine', 'ExtensionsServer', 'Specific', 'ExtensionsSession', 'ExtensionsText', 'ProcessingVariable', 'and', 'Type', 'Related', 'ExtensionsWeb', 'ServicesWindows', 'Only', 'ExtensionsXML', 'ManipulationGUI', 'ExtensionsKeyboard', 'Shortcuts?This', 'helpjNext', 'menu', 'itemkPrevious', 'menu', 'itemg', 'pPrevious', 'man', 'pageg', 'nNext', 'man', 'pageGScroll', 'to', 'bottomg', 'gScroll', 'to', 'topg', 'hGoto', 'homepageg', 'sGoto', 'search(current', 'page)/Focus', 'search', 'boxApopular', 'general-purpose', 'scripting', 'languagethat', 'is', 'especially', 'suited', 'to', 'web', 'development.Fast,', 'flexible', 'and', 'pragmatic,', 'PHP', 'powers', 'everything', 'from', 'your', 'blog', 'to', 'the', 'most', 'popular', 'websites', 'in', 'the', \"world.What's\", 'new', 'in', '8.2Download8.2.1·Changelog·Upgrading8.1.14·Changelog·Upgrading8.0.27·Changelog·Upgrading05', 'Jan', '2023PHP', '8.0.27', 'Released!The', 'PHP', 'development', 'team', 'announces', 'the', 'immediate', 'availability', 'of', 'PHP', '8.0.27.', 'This', 'is', 'a', 'security', 'release.All', 'PHP', '8.0', 'users', 'are', 'encouraged', 'to', 'upgrade', 'to', 'this', 'version.For', 'source', 'downloads', 'of', 'PHP', '8.0.27', 'please', 'visit', 'ourdownloads', 'page,', 'Windows', 'source', 'and', 'binaries', 'can', 'be', 'found', 'onwindows.php.net/download/.', 'The', 'list', 'of', 'changes', 'is', 'recorded', 'in', 'theChangeLog.05', 'Jan', '2023PHP', '8.2.1', 'Released!The', 'PHP', 'development', 'team', 'announces', 'the', 'immediate', 'availability', 'of', 'PHP', '8.2.1.', 'This', 'is', 'a', 'security', 'release.All', 'PHP', '8.2', 'users', 'are', 'encouraged', 'to', 'upgrade', 'to', 'this', 'version.For', 'source', 'downloads', 'of', 'PHP', '8.2.1', 'please', 'visit', 'ourdownloads', 'page,', 'Windows', 'source', 'and', 'binaries', 'can', 'be', 'found', 'onwindows.php.net/download/.', 'The', 'list', 'of', 'changes', 'is', 'recorded', 'in', 'theChangeLog.05', 'Jan', '2023PHP', '8.1.14', 'Released!The', 'PHP', 'development', 'team', 'announces', 'the', 'immediate', 'availability', 'of', 'PHP', '8.1.14.', 'This', 'is', 'a', 'security', 'release.All', 'PHP', '8.1', 'users', 'are', 'encouraged', 'to', 'upgrade', 'to', 'this', 'version.For', 'source', 'downloads', 'of', 'PHP', '8.1.14', 'please', 'visit', 'ourdownloads', 'page,', 'Windows', 'source', 'and', 'binaries', 'can', 'be', 'found', 'onwindows.php.net/download/.', 'The', 'list', 'of', 'changes', 'is', 'recorded', 'in', 'theChangeLog.08', 'Dec', '2022PHP', '8.2.0', 'Released!The', 'PHP', 'development', 'team', 'announces', 'the', 'immediate', 'availability', 'of', 'PHP', '8.2.0.', 'This', 'release', 'marks', 'the', 'latest', 'minor', 'release', 'of', 'the', 'PHP', 'language.PHP', '8.2', 'comes', 'with', 'numerous', 'improvements', 'and', 'new', 'features', 'such', 'as:Readonly', 'classesDisjunctive', 'Normal', 'Form', '(DNF)', 'TypesNew', 'stand-alone', 'types:null,', 'false,', 'andtrueNew', '\"Random\"', 'extensionConstants', 'in', 'traitsDeprecate', 'dynamic', 'propertiesAnd', 'much', 'much', 'more...For', 'source', 'downloads', 'of', 'PHP', '8.2.0', 'please', 'visit', 'ourdownloads', 'page,', 'Windows', 'source', 'and', 'binaries', 'can', 'be', 'found', 'onwindows.php.net/download/.', 'The', 'list', 'of', 'changes', 'is', 'recorded', 'in', 'theChangeLog.Themigration', 'guideis', 'available', 'in', 'the', 'PHP', 'Manual.', 'Please', 'consult', 'it', 'for', 'the', 'detailed', 'list', 'of', 'new', 'features', 'and', 'backward', 'incompatible', 'changes.Kudos', 'to', 'all', 'the', 'contributors', 'and', 'supporters!26', 'Nov', '2022PHP', '8.0.26', 'Released!The', 'PHP', 'development', 'team', 'announces', 'the', 'immediate', 'availability', 'of', 'PHP', '8.0.26.', 'This', 'is', 'a', 'bug', 'fix', 'release.All', 'PHP', '8.0', 'users', 'are', 'encouraged', 'to', 'upgrade', 'to', 'this', 'version.For', 'source', 'downloads', 'of', 'PHP', '8.0.26', 'please', 'visit', 'ourdownloads', 'page,', 'Windows', 'source', 'and', 'binaries', 'can', 'be', 'found', 'onwindows.php.net/download/.', 'The', 'list', 'of', 'changes', 'is', 'recorded', 'in', 'theChangeLog.Please', 'note,', 'this', 'is', 'the', 'last', 'bug-fix', 'release', 'for', 'the', '8.0.x', 'series.', 'Security', 'fix', 'support', 'will', 'continue', 'until', '26', 'Nov', '2023.', 'For', 'more', 'information,', 'please', 'check', 'ourSupported', 'Versionspage.24', 'Nov', '2022PHP', '8.2.0', 'RC7', 'available', 'for', 'testingThe', 'PHP', 'team', 'is', 'pleased', 'to', 'announce', 'the', 'release', 'of', 'PHP', '8.2.0,', 'RC', '7.', 'This', 'is', 'the', 'seventh', 'release', 'candidate,', 'continuing', 'the', 'PHP', '8.2', 'release', 'cycle,', 'the', 'rough', 'outline', 'of', 'which', 'is', 'specified', 'in', 'thePHP', 'Wiki.For', 'source', 'downloads', 'of', 'PHP', '8.2.0,', 'RC', '7', 'please', 'visit', 'thedownload', 'page.Please', 'carefully', 'test', 'this', 'version', 'and', 'report', 'any', 'issues', 'found', 'in', 'thebug', 'reporting', 'system.Please', 'DO', 'NOT', 'use', 'this', 'version', 'in', 'production,', 'it', 'is', 'an', 'early', 'test', 'version.For', 'more', 'information', 'on', 'the', 'new', 'features', 'and', 'other', 'changes,', 'you', 'can', 'read', 'theNEWSfile', 'or', 'theUPGRADINGfile', 'for', 'a', 'complete', 'list', 'of', 'upgrading', 'notes.', 'These', 'files', 'can', 'also', 'be', 'found', 'in', 'the', 'release', 'archive.The', 'next', 'release', 'will', 'be', 'the', 'production-ready,', 'general', 'availability', 'release,', 'planned', 'for', 'December', '8th', '2022.The', 'signatures', 'for', 'the', 'release', 'can', 'be', 'found', 'inthe', 'manifestor', 'onthe', 'QA', 'site.Thank', 'you', 'for', 'helping', 'us', 'make', 'PHP', 'better.24', 'Nov', '2022PHP', '8.1.13', 'Released!The', 'PHP', 'development', 'team', 'announces', 'the', 'immediate', 'availability', 'of', 'PHP', '8.1.13.', 'This', 'is', 'a', 'bug', 'fix', 'release.All', 'PHP', '8.1', 'users', 'are', 'encouraged', 'to', 'upgrade', 'to', 'this', 'version.For', 'source', 'downloads', 'of', 'PHP', '8.1.13', 'please', 'visit', 'ourdownloads', 'page,', 'Windows', 'source', 'and', 'binaries', 'can', 'be', 'found', 'onwindows.php.net/download/.', 'The', 'list', 'of', 'changes', 'is', 'recorded', 'in', 'theChangeLog.10', 'Nov', '2022PHP', '8.2.0', 'RC', '6', 'available', 'for', 'testingThe', 'PHP', 'team', 'is', 'pleased', 'to', 'announce', 'the', 'release', 'of', 'PHP', '8.2.0,', 'RC', '6.', 'This', 'is', 'the', 'sixth', 'release', 'candidate,', 'continuing', 'the', 'PHP', '8.2', 'release', 'cycle,', 'the', 'rough', 'outline', 'of', 'which', 'is', 'specified', 'in', 'thePHP', 'Wiki.For', 'source', 'downloads', 'of', 'PHP', '8.2.0,', 'RC', '6', 'please', 'visit', 'thedownload', 'page.Please', 'carefully', 'test', 'this', 'version', 'and', 'report', 'any', 'issues', 'found', 'in', 'thebug', 'reporting', 'system.Please', 'DO', 'NOT', 'use', 'this', 'version', 'in', 'production,', 'it', 'is', 'an', 'early', 'test', 'version.For', 'more', 'information', 'on', 'the', 'new', 'features', 'and', 'other', 'changes,', 'you', 'can', 'read', 'theNEWSfile', 'or', 'theUPGRADINGfile', 'for', 'a', 'complete', 'list', 'of', 'upgrading', 'notes.', 'These', 'files', 'can', 'also', 'be', 'found', 'in', 'the', 'release', 'archive.The', 'next', 'release', 'will', 'be', 'the', 'seventh', 'release', 'candidate', '(RC', '7),', 'planned', 'for', 'Nov', '24th', '2022.The', 'signatures', 'for', 'the', 'release', 'can', 'be', 'found', 'inthe', 'manifestor', 'onthe', 'QA', 'site.Thank', 'you', 'for', 'helping', 'us', 'make', 'PHP', 'better.03', 'Nov', '2022PHP', '7.4.33', 'Released!The', 'PHP', 'development', 'team', 'announces', 'the', 'immediate', 'availability', 'of', 'PHP', '7.4.33.This', 'is', 'security', 'release', 'that', 'fixes', 'an', 'OOB', 'read', 'due', 'to', 'insufficient', 'input', 'validation', 'in', 'imageloadfont(),', 'and', 'a', 'buffer', 'overflow', 'in', 'hash_update()', 'on', 'long', 'parameter.All', 'PHP', '7.4', 'users', 'are', 'encouraged', 'to', 'upgrade', 'to', 'this', 'version.For', 'source', 'downloads', 'of', 'PHP', '7.4.33', 'please', 'visit', 'ourdownloads', 'page,', 'Windows', 'source', 'and', 'binaries', 'can', 'be', 'found', 'onwindows.php.net/download/.', 'The', 'list', 'of', 'changes', 'is', 'recorded', 'in', 'theChangeLog.28', 'Oct', '2022PHP', '8.1.12', 'Released!The', 'PHP', 'development', 'team', 'announces', 'the', 'immediate', 'availability', 'of', 'PHP', '8.1.12.', 'This', 'is', 'a', 'security', 'release.All', 'PHP', '8.1', 'users', 'are', 'encouraged', 'to', 'upgrade', 'to', 'this', 'version.For', 'source', 'downloads', 'of', 'PHP', '8.1.12', 'please', 'visit', 'ourdownloads', 'page,', 'Windows', 'source', 'and', 'binaries', 'can', 'be', 'found', 'onwindows.php.net/download/.', 'The', 'list', 'of', 'changes', 'is', 'recorded', 'in', 'theChangeLog.28', 'Oct', '2022PHP', '8.0.25', 'Released!The', 'PHP', 'development', 'team', 'announces', 'the', 'immediate', 'availability', 'of', 'PHP', '8.0.25.', 'This', 'is', 'a', 'security', 'fix', 'release.All', 'PHP', '8.0', 'users', 'are', 'encouraged', 'to', 'upgrade', 'to', 'this', 'version.For', 'source', 'downloads', 'of', 'PHP', '8.0.25', 'please', 'visit', 'ourdownloads', 'page,', 'Windows', 'source', 'and', 'binaries', 'can', 'be', 'found', 'onwindows.php.net/download/.', 'The', 'list', 'of', 'changes', 'is', 'recorded', 'in', 'theChangeLog.27', 'Oct', '2022PHP', '8.2.0', 'RC5', 'available', 'for', 'testingThe', 'PHP', 'team', 'is', 'pleased', 'to', 'announce', 'the', 'fifth', 'release', 'candidate', 'of', 'PHP', '8.2.0,', 'RC', '5.', 'This', 'continues', 'the', 'PHP', '8.2', 'release', 'cycle,', 'the', 'rough', 'outline', 'of', 'which', 'is', 'specified', 'in', 'thePHP', 'Wiki.For', 'source', 'downloads', 'of', 'PHP', '8.2.0', 'RC5', 'please', 'visit', 'thedownload', 'page.Please', 'carefully', 'test', 'this', 'version', 'and', 'report', 'any', 'issues', 'found', 'in', 'thebug', 'reporting', 'system.Please', 'DO', 'NOT', 'use', 'this', 'version', 'in', 'production,', 'it', 'is', 'an', 'early', 'test', 'version.For', 'more', 'information', 'on', 'the', 'new', 'features', 'and', 'other', 'changes,', 'you', 'can', 'read', 'theNEWSfile,', 'or', 'theUPGRADINGfile', 'for', 'a', 'complete', 'list', 'of', 'upgrading', 'notes.', 'These', 'files', 'can', 'also', 'be', 'found', 'in', 'the', 'release', 'archive.The', 'next', 'release', 'will', 'be', 'the', 'sixth', 'release', 'candidate', '(RC', '6),', 'planned', 'for', 'Nov', '10th', '2022.The', 'signatures', 'for', 'the', 'release', 'can', 'be', 'found', 'in', 'themanifestor', 'on', 'theQA', 'site.Thank', 'you', 'for', 'helping', 'us', 'make', 'PHP', 'better.13', 'Oct', '2022PHP', '8.2.0', 'RC', '4', 'available', 'for', 'testingThe', 'PHP', 'team', 'is', 'pleased', 'to', 'announce', 'the', 'release', 'of', 'PHP', '8.2.0,', 'RC', '4.', 'This', 'is', 'the', 'fourth', 'release', 'candidate,', 'continuing', 'the', 'PHP', '8.2', 'release', 'cycle,', 'the', 'rough', 'outline', 'of', 'which', 'is', 'specified', 'in', 'thePHP', 'Wiki.For', 'source', 'downloads', 'of', 'PHP', '8.2.0,', 'RC', '4', 'please', 'visit', 'thedownload', 'page.Please', 'carefully', 'test', 'this', 'version', 'and', 'report', 'any', 'issues', 'found', 'in', 'thebug', 'reporting', 'system.Please', 'DO', 'NOT', 'use', 'this', 'version', 'in', 'production,', 'it', 'is', 'an', 'early', 'test', 'version.For', 'more', 'information', 'on', 'the', 'new', 'features', 'and', 'other', 'changes,', 'you', 'can', 'read', 'theNEWSfile', 'or', 'theUPGRADINGfile', 'for', 'a', 'complete', 'list', 'of', 'upgrading', 'notes.', 'These', 'files', 'can', 'also', 'be', 'found', 'in', 'the', 'release', 'archive.The', 'next', 'release', 'will', 'be', 'the', 'fifth', 'release', 'candidate', '(RC', '5),', 'planned', 'for', '27', 'October', '2022.The', 'signatures', 'for', 'the', 'release', 'can', 'be', 'found', 'inthe', 'manifestor', 'onthe', 'QA', 'site.Thank', 'you', 'for', 'helping', 'us', 'make', 'PHP', 'better.30', 'Sep', '2022PHP', '8.0.24', 'Released!The', 'PHP', 'development', 'team', 'announces', 'the', 'immediate', 'availability', 'of', 'PHP', '8.0.24.', 'This', 'is', 'a', 'security', 'release.All', 'PHP', '8.0', 'users', 'are', 'encouraged', 'to', 'upgrade', 'to', 'this', 'version.For', 'source', 'downloads', 'of', 'PHP', '8.0.24', 'please', 'visit', 'ourdownloads', 'page,', 'Windows', 'source', 'and', 'binaries', 'can', 'be', 'found', 'onwindows.php.net/download/.', 'The', 'list', 'of', 'changes', 'is', 'recorded', 'in', 'theChangeLog.29', 'Sep', '2022PHP', '8.2.0', 'RC3', 'available', 'for', 'testingThe', 'PHP', 'team', 'is', 'pleased', 'to', 'announce', 'the', 'third', 'release', 'candidate', 'of', 'PHP', '8.2.0,', 'RC', '3.', 'This', 'continues', 'the', 'PHP', '8.2', 'release', 'cycle,', 'the', 'rough', 'outline', 'of', 'which', 'is', 'specified', 'in', 'thePHP', 'Wiki.For', 'source', 'downloads', 'of', 'PHP', '8.2.0', 'RC3', 'please', 'visit', 'thedownload', 'page.Please', 'carefully', 'test', 'this', 'version', 'and', 'report', 'any', 'issues', 'found', 'in', 'thebug', 'reporting', 'system.Please', 'DO', 'NOT', 'use', 'this', 'version', 'in', 'production,', 'it', 'is', 'an', 'early', 'test', 'version.For', 'more', 'information', 'on', 'the', 'new', 'features', 'and', 'other', 'changes,', 'you', 'can', 'read', 'theNEWSfile,', 'or', 'theUPGRADINGfile', 'for', 'a', 'complete', 'list', 'of', 'upgrading', 'notes.', 'These', 'files', 'can', 'also', 'be', 'found', 'in', 'the', 'release', 'archive.The', 'next', 'release', 'will', 'be', 'the', 'fourth', 'release', 'candidate', '(RC', '4),', 'planned', 'for', 'Oct', '13th', '2022.The', 'signatures', 'for', 'the', 'release', 'can', 'be', 'found', 'in', 'themanifestor', 'on', 'theQA', 'site.Thank', 'you', 'for', 'helping', 'us', 'make', 'PHP', 'better.29', 'Sep', '2022PHP', '8.1.11', 'Released!The', 'PHP', 'development', 'team', 'announces', 'the', 'immediate', 'availability', 'of', 'PHP', '8.1.11.', 'This', 'is', 'a', 'security', 'release.All', 'PHP', '8.1', 'users', 'are', 'encouraged', 'to', 'upgrade', 'to', 'this', 'version.For', 'source', 'downloads', 'of', 'PHP', '8.1.11', 'please', 'visit', 'ourdownloads', 'page,', 'Windows', 'source', 'and', 'binaries', 'can', 'be', 'found', 'onwindows.php.net/download/.', 'The', 'list', 'of', 'changes', 'is', 'recorded', 'in', 'theChangeLog.29', 'Sep', '2022PHP', '7.4.32', 'Released!The', 'PHP', 'development', 'team', 'announces', 'the', 'immediate', 'availability', 'of', 'PHP', '7.4.32.', 'This', 'is', 'a', 'security', 'release.This', 'release', 'addresses', 'an', 'infinite', 'recursion', 'with', 'specially', 'constructed', 'phar', 'files,', 'and', 'prevents', 'a', 'clash', 'with', 'variable', 'name', 'mangling', 'for', 'the', '__Host/__Secure', 'HTTP', 'headers.All', 'PHP', '7.4', 'users', 'are', 'encouraged', 'to', 'upgrade', 'to', 'this', 'version.For', 'source', 'downloads', 'of', 'PHP', '7.4.32', 'please', 'visit', 'ourdownloads', 'page,', 'Windows', 'source', 'and', 'binaries', 'can', 'be', 'found', 'onwindows.php.net/download/.', 'The', 'list', 'of', 'changes', 'is', 'recorded', 'in', 'theChangeLog.15', 'Sep', '2022PHP', '8.2.0', 'RC2', 'available', 'for', 'testingThe', 'PHP', 'team', 'is', 'pleased', 'to', 'announce', 'the', 'release', 'of', 'PHP', '8.2.0,', 'RC', '2.', 'This', 'is', 'the', 'second', 'release', 'candidate,', 'continuing', 'the', 'PHP', '8.2', 'release', 'cycle,', 'the', 'rough', 'outline', 'of', 'which', 'is', 'specified', 'in', 'thePHP', 'Wiki.For', 'source', 'downloads', 'of', 'PHP', '8.2.0,', 'RC', '2', 'please', 'visit', 'thedownload', 'page.Please', 'carefully', 'test', 'this', 'version', 'and', 'report', 'any', 'issues', 'found', 'in', 'thebug', 'reporting', 'system.Please', 'DO', 'NOT', 'use', 'this', 'version', 'in', 'production,', 'it', 'is', 'an', 'early', 'test', 'version.For', 'more', 'information', 'on', 'the', 'new', 'features', 'and', 'other', 'changes,', 'you', 'can', 'read', 'theNEWSfile', 'or', 'theUPGRADINGfile', 'for', 'a', 'complete', 'list', 'of', 'upgrading', 'notes.', 'These', 'files', 'can', 'also', 'be', 'found', 'in', 'the', 'release', 'archive.The', 'next', 'release', 'will', 'be', 'the', 'third', 'release', 'candidate', '(RC', '3),', 'planned', 'for', '29', 'September', '2022.The', 'signatures', 'for', 'the', 'release', 'can', 'be', 'found', 'inthe', 'manifestor', 'onthe', 'QA', 'site.Thank', 'you', 'for', 'helping', 'us', 'make', 'PHP', 'better.01', 'Sep', '2022PHP', '8.2.0', 'RC1', 'available', 'for', 'testingThe', 'PHP', 'team', 'is', 'pleased', 'to', 'announce', 'the', 'first', 'release', 'candidate', 'of', 'PHP', '8.2.0,', 'RC', '1.', 'This', 'continues', 'the', 'PHP', '8.2', 'release', 'cycle,', 'the', 'rough', 'outline', 'of', 'which', 'is', 'specified', 'in', 'thePHP', 'Wiki.For', 'source', 'downloads', 'of', 'PHP', '8.2.0', 'RC1', 'please', 'visit', 'thedownload', 'page.Please', 'carefully', 'test', 'this', 'version', 'and', 'report', 'any', 'issues', 'found', 'in', 'thebug', 'reporting', 'system.Please', 'DO', 'NOT', 'use', 'this', 'version', 'in', 'production,', 'it', 'is', 'an', 'early', 'test', 'version.For', 'more', 'information', 'on', 'the', 'new', 'features', 'and', 'other', 'changes,', 'you', 'can', 'read', 'theNEWSfile,', 'or', 'theUPGRADINGfile', 'for', 'a', 'complete', 'list', 'of', 'upgrading', 'notes.', 'These', 'files', 'can', 'also', 'be', 'found', 'in', 'the', 'release', 'archive.The', 'next', 'release', 'will', 'be', 'the', 'second', 'release', 'candidate', '(RC', '2),', 'planned', 'for', 'Sept', '15th', '2022.The', 'signatures', 'for', 'the', 'release', 'can', 'be', 'found', 'in', 'themanifestor', 'on', 'theQA', 'site.Thank', 'you', 'for', 'helping', 'us', 'make', 'PHP', 'better.01', 'Sep', '2022PHP', '8.0.23', 'Released!The', 'PHP', 'development', 'team', 'announces', 'the', 'immediate', 'availability', 'of', 'PHP', '8.0.23.', 'This', 'is', 'a', 'security', 'release.All', 'PHP', '8.0', 'users', 'are', 'encouraged', 'to', 'upgrade', 'to', 'this', 'version.For', 'source', 'downloads', 'of', 'PHP', '8.0.23', 'please', 'visit', 'ourdownloads', 'page,', 'Windows', 'source', 'and', 'binaries', 'can', 'be', 'found', 'onwindows.php.net/download/.', 'The', 'list', 'of', 'changes', 'is', 'recorded', 'in', 'theChangeLog.01', 'Sep', '2022PHP', '8.1.10', 'Released!The', 'PHP', 'development', 'team', 'announces', 'the', 'immediate', 'availability', 'of', 'PHP', '8.1.10.', 'This', 'is', 'a', 'bug', 'fix', 'release.All', 'PHP', '8.1', 'users', 'are', 'encouraged', 'to', 'upgrade', 'to', 'this', 'version.For', 'source', 'downloads', 'of', 'PHP', '8.1.10', 'please', 'visit', 'ourdownloads', 'page,', 'Windows', 'source', 'and', 'binaries', 'can', 'be', 'found', 'onwindows.php.net/download/.', 'The', 'list', 'of', 'changes', 'is', 'recorded', 'in', 'theChangeLog.18', 'Aug', '2022PHP', '8.2.0', 'Beta', '3', 'available', 'for', 'testingThe', 'PHP', 'team', 'is', 'pleased', 'to', 'announce', 'the', 'third', 'beta', 'release', 'of', 'PHP', '8.2.0,', 'Beta', '3.', 'This', 'continues', 'the', 'PHP', '8.2', 'release', 'cycle,', 'the', 'rough', 'outline', 'of', 'which', 'is', 'specified', 'in', 'thePHP', 'Wiki.For', 'source', 'downloads', 'of', 'PHP', '8.2.0', 'Beta', '3', 'please', 'visit', 'thedownload', 'page.Please', 'carefully', 'test', 'this', 'version', 'and', 'report', 'any', 'issues', 'found', 'in', 'thebug', 'reporting', 'system.Please', 'DO', 'NOT', 'use', 'this', 'version', 'in', 'production,', 'it', 'is', 'an', 'early', 'test', 'version.For', 'more', 'information', 'on', 'the', 'new', 'features', 'and', 'other', 'changes,', 'you', 'can', 'read', 'theNEWSfile,', 'or', 'theUPGRADINGfile', 'for', 'a', 'complete', 'list', 'of', 'upgrading', 'notes.', 'These', 'files', 'can', 'also', 'be', 'found', 'in', 'the', 'release', 'archive.The', 'next', 'release', 'will', 'be', 'the', 'first', 'release', 'candidate', '(RC', '1),', 'planned', 'for', 'Sept', '1', '2022.The', 'signatures', 'for', 'the', 'release', 'can', 'be', 'found', 'in', 'themanifestor', 'on', 'theQA', 'site.Thank', 'you', 'for', 'helping', 'us', 'make', 'PHP', 'better.04', 'Aug', '2022PHP', '8.1.9', 'Released!The', 'PHP', 'development', 'team', 'announces', 'the', 'immediate', 'availability', 'of', 'PHP', '8.1.9.', 'This', 'is', 'a', 'bug', 'fix', 'release.All', 'PHP', '8.1', 'users', 'are', 'encouraged', 'to', 'upgrade', 'to', 'this', 'version.For', 'source', 'downloads', 'of', 'PHP', '8.1.9', 'please', 'visit', 'ourdownloads', 'page,', 'Windows', 'source', 'and', 'binaries', 'can', 'be', 'found', 'onwindows.php.net/download/.', 'The', 'list', 'of', 'changes', 'is', 'recorded', 'in', 'theChangeLog.04', 'Aug', '2022PHP', '8.2.0', 'Beta', '2', 'available', 'for', 'testingThe', 'PHP', 'team', 'is', 'pleased', 'to', 'announce', 'the', 'second', 'beta', 'release', 'of', 'PHP', '8.2.0,', 'Beta', '2.', 'This', 'continues', 'the', 'PHP', '8.2', 'release', 'cycle,', 'the', 'rough', 'outline', 'of', 'which', 'is', 'specified', 'in', 'thePHP', 'Wiki.For', 'source', 'downloads', 'of', 'PHP', '8.2.0', 'Beta', '2', 'please', 'visit', 'thedownload', 'page.Please', 'carefully', 'test', 'this', 'version', 'and', 'report', 'any', 'issues', 'found', 'in', 'thebug', 'reporting', 'system.Please', 'DO', 'NOT', 'use', 'this', 'version', 'in', 'production,', 'it', 'is', 'an', 'early', 'test', 'version.For', 'more', 'information', 'on', 'the', 'new', 'features', 'and', 'other', 'changes,', 'you', 'can', 'read', 'theNEWSfile,', 'or', 'theUPGRADINGfile', 'for', 'a', 'complete', 'list', 'of', 'upgrading', 'notes.', 'These', 'files', 'can', 'also', 'be', 'found', 'in', 'the', 'release', 'archive.The', 'next', 'release', 'will', 'be', 'PHP', '8.2.0', 'Beta', '3,', 'planned', 'for', 'Aug', '18', '2022.The', 'signatures', 'for', 'the', 'release', 'can', 'be', 'found', 'in', 'themanifestor', 'on', 'theQA', 'site.Thank', 'you', 'for', 'helping', 'us', 'make', 'PHP', 'better.04', 'Aug', '2022PHP', '8.0.22', 'Released!The', 'PHP', 'development', 'team', 'announces', 'the', 'immediate', 'availability', 'of', 'PHP', '8.0.22.', 'This', 'is', 'a', 'bug', 'fix', 'release.All', 'PHP', '8.0', 'users', 'are', 'encouraged', 'to', 'upgrade', 'to', 'this', 'version.For', 'source', 'downloads', 'of', 'PHP', '8.0.22', 'please', 'visit', 'ourdownloads', 'page,', 'Windows', 'source', 'and', 'binaries', 'can', 'be', 'found', 'onwindows.php.net/download/.', 'The', 'list', 'of', 'changes', 'is', 'recorded', 'in', 'theChangeLog.Older', 'News', 'EntriesUpcoming', 'conferencesInternational', 'PHP', 'Conference', 'Berlin', '2023php[tek]', '2023', '-', 'Chicago,', 'ILUser', 'Group', 'EventsSpecial', 'ThanksSocial', 'media@official_phpCopyright', '©', '2001-2023', 'The', 'PHP', 'GroupMy', 'PHP.netContactOther', 'PHP.net', 'sitesPrivacy', 'policyView', 'Source']\n"
          ]
        }
      ]
    },
    {
      "cell_type": "markdown",
      "source": [
        "**Count word frequency using NLTK function FreqDist()**"
      ],
      "metadata": {
        "id": "rol86MZVwV8z"
      }
    },
    {
      "cell_type": "code",
      "source": [
        "tokens = [t for t in text.split()]\n",
        "\n",
        "clean_tokens = tokens[:]\n",
        "\n",
        "freq = nltk.FreqDist(clean_tokens)\n",
        "\n",
        "for key,val in freq.items():\n",
        "\n",
        "    print (str(key) + ':' + str(val))"
      ],
      "metadata": {
        "colab": {
          "base_uri": "https://localhost:8080/"
        },
        "id": "QoWo8tUNwWZd",
        "outputId": "4b434a4b-1a1a-404b-b38c-c455dfe01ab2"
      },
      "execution_count": null,
      "outputs": [
        {
          "output_type": "stream",
          "name": "stdout",
          "text": [
            "PHP::1\n",
            "Hypertext:1\n",
            "PreprocessorDownloadsDocumentationGet:1\n",
            "InvolvedHelpGetting:1\n",
            "StartedIntroductionA:1\n",
            "simple:1\n",
            "tutorialLanguage:1\n",
            "ReferenceBasic:1\n",
            "syntaxTypesVariablesConstantsExpressionsOperatorsControl:1\n",
            "StructuresFunctionsClasses:1\n",
            "and:49\n",
            "ObjectsNamespacesEnumerationsErrorsExceptionsFibersGeneratorsAttributesReferences:1\n",
            "ExplainedPredefined:1\n",
            "VariablesPredefined:1\n",
            "ExceptionsPredefined:1\n",
            "Interfaces:1\n",
            "ClassesPredefined:1\n",
            "AttributesContext:1\n",
            "options:1\n",
            "parametersSupported:1\n",
            "Protocols:1\n",
            "WrappersSecurityIntroductionGeneral:1\n",
            "considerationsInstalled:1\n",
            "as:2\n",
            "CGI:1\n",
            "binaryInstalled:1\n",
            "an:12\n",
            "Apache:1\n",
            "moduleSession:1\n",
            "SecurityFilesystem:1\n",
            "SecurityDatabase:1\n",
            "SecurityError:1\n",
            "ReportingUser:1\n",
            "Submitted:1\n",
            "DataHiding:1\n",
            "PHPKeeping:1\n",
            "CurrentFeaturesHTTP:1\n",
            "authentication:1\n",
            "with:5\n",
            "PHPCookiesSessionsDealing:1\n",
            "XFormsHandling:1\n",
            "file:1\n",
            "uploadsUsing:1\n",
            "remote:1\n",
            "filesConnection:1\n",
            "handlingPersistent:1\n",
            "Database:1\n",
            "ConnectionsCommand:1\n",
            "line:1\n",
            "usageGarbage:1\n",
            "CollectionDTrace:1\n",
            "Dynamic:1\n",
            "TracingFunction:1\n",
            "ReferenceAffecting:1\n",
            "PHP's:1\n",
            "BehaviourAudio:1\n",
            "Formats:1\n",
            "ManipulationAuthentication:1\n",
            "ServicesCommand:1\n",
            "Line:1\n",
            "Specific:2\n",
            "ExtensionsCompression:1\n",
            "Archive:1\n",
            "ExtensionsCryptography:1\n",
            "ExtensionsDatabase:1\n",
            "ExtensionsDate:1\n",
            "Time:1\n",
            "Related:4\n",
            "ExtensionsFile:1\n",
            "System:1\n",
            "ExtensionsHuman:1\n",
            "Language:1\n",
            "Character:1\n",
            "Encoding:1\n",
            "SupportImage:1\n",
            "Processing:1\n",
            "GenerationMail:1\n",
            "ExtensionsMathematical:1\n",
            "ExtensionsNon-Text:1\n",
            "MIME:1\n",
            "OutputProcess:1\n",
            "Control:1\n",
            "ExtensionsOther:2\n",
            "Basic:1\n",
            "ServicesSearch:1\n",
            "Engine:1\n",
            "ExtensionsServer:1\n",
            "ExtensionsSession:1\n",
            "ExtensionsText:1\n",
            "ProcessingVariable:1\n",
            "Type:1\n",
            "ExtensionsWeb:1\n",
            "ServicesWindows:1\n",
            "Only:1\n",
            "ExtensionsXML:1\n",
            "ManipulationGUI:1\n",
            "ExtensionsKeyboard:1\n",
            "Shortcuts?This:1\n",
            "helpjNext:1\n",
            "menu:2\n",
            "itemkPrevious:1\n",
            "itemg:1\n",
            "pPrevious:1\n",
            "man:2\n",
            "pageg:1\n",
            "nNext:1\n",
            "pageGScroll:1\n",
            "to:45\n",
            "bottomg:1\n",
            "gScroll:1\n",
            "topg:1\n",
            "hGoto:1\n",
            "homepageg:1\n",
            "sGoto:1\n",
            "search(current:1\n",
            "page)/Focus:1\n",
            "search:1\n",
            "boxApopular:1\n",
            "general-purpose:1\n",
            "scripting:1\n",
            "languagethat:1\n",
            "is:64\n",
            "especially:1\n",
            "suited:1\n",
            "web:1\n",
            "development.Fast,:1\n",
            "flexible:1\n",
            "pragmatic,:1\n",
            "PHP:114\n",
            "powers:1\n",
            "everything:1\n",
            "from:1\n",
            "your:1\n",
            "blog:1\n",
            "the:92\n",
            "most:1\n",
            "popular:1\n",
            "websites:1\n",
            "in:63\n",
            "world.What's:1\n",
            "new:12\n",
            "8.2Download8.2.1·Changelog·Upgrading8.1.14·Changelog·Upgrading8.0.27·Changelog·Upgrading05:1\n",
            "Jan:3\n",
            "2023PHP:3\n",
            "8.0.27:2\n",
            "Released!The:16\n",
            "development:16\n",
            "team:25\n",
            "announces:16\n",
            "immediate:16\n",
            "availability:17\n",
            "of:86\n",
            "8.0.27.:1\n",
            "This:24\n",
            "a:25\n",
            "security:10\n",
            "release.All:13\n",
            "8.0:6\n",
            "users:15\n",
            "are:15\n",
            "encouraged:15\n",
            "upgrade:15\n",
            "this:34\n",
            "version.For:24\n",
            "source:41\n",
            "downloads:25\n",
            "please:26\n",
            "visit:25\n",
            "ourdownloads:16\n",
            "page,:16\n",
            "Windows:16\n",
            "binaries:16\n",
            "can:43\n",
            "be:43\n",
            "found:43\n",
            "onwindows.php.net/download/.:16\n",
            "The:17\n",
            "list:26\n",
            "changes:16\n",
            "recorded:16\n",
            "theChangeLog.05:2\n",
            "8.2.1:2\n",
            "8.2.1.:1\n",
            "8.2:11\n",
            "8.1.14:2\n",
            "8.1.14.:1\n",
            "8.1:6\n",
            "theChangeLog.08:1\n",
            "Dec:1\n",
            "2022PHP:22\n",
            "8.2.0:17\n",
            "8.2.0.:1\n",
            "release:61\n",
            "marks:1\n",
            "latest:1\n",
            "minor:1\n",
            "language.PHP:1\n",
            "comes:1\n",
            "numerous:1\n",
            "improvements:1\n",
            "features:11\n",
            "such:1\n",
            "as:Readonly:1\n",
            "classesDisjunctive:1\n",
            "Normal:1\n",
            "Form:1\n",
            "(DNF):1\n",
            "TypesNew:1\n",
            "stand-alone:1\n",
            "types:null,:1\n",
            "false,:1\n",
            "andtrueNew:1\n",
            "\"Random\":1\n",
            "extensionConstants:1\n",
            "traitsDeprecate:1\n",
            "dynamic:1\n",
            "propertiesAnd:1\n",
            "much:2\n",
            "more...For:1\n",
            "theChangeLog.Themigration:1\n",
            "guideis:1\n",
            "available:10\n",
            "Manual.:1\n",
            "Please:1\n",
            "consult:1\n",
            "it:10\n",
            "for:48\n",
            "detailed:1\n",
            "backward:1\n",
            "incompatible:1\n",
            "changes.Kudos:1\n",
            "all:1\n",
            "contributors:1\n",
            "supporters!26:1\n",
            "Nov:8\n",
            "8.0.26:2\n",
            "8.0.26.:1\n",
            "bug:5\n",
            "fix:7\n",
            "theChangeLog.Please:1\n",
            "note,:1\n",
            "last:1\n",
            "bug-fix:1\n",
            "8.0.x:1\n",
            "series.:1\n",
            "Security:1\n",
            "support:1\n",
            "will:10\n",
            "continue:1\n",
            "until:1\n",
            "26:1\n",
            "2023.:1\n",
            "For:1\n",
            "more:10\n",
            "information,:1\n",
            "check:1\n",
            "ourSupported:1\n",
            "Versionspage.24:1\n",
            "RC7:1\n",
            "testingThe:9\n",
            "pleased:9\n",
            "announce:9\n",
            "8.2.0,:13\n",
            "RC:13\n",
            "7.:1\n",
            "seventh:2\n",
            "candidate,:4\n",
            "continuing:4\n",
            "cycle,:9\n",
            "rough:9\n",
            "outline:9\n",
            "which:9\n",
            "specified:9\n",
            "thePHP:9\n",
            "Wiki.For:9\n",
            "7:1\n",
            "thedownload:9\n",
            "page.Please:9\n",
            "carefully:9\n",
            "test:18\n",
            "version:18\n",
            "report:9\n",
            "any:9\n",
            "issues:9\n",
            "thebug:9\n",
            "reporting:9\n",
            "system.Please:9\n",
            "DO:9\n",
            "NOT:9\n",
            "use:9\n",
            "production,:9\n",
            "early:9\n",
            "information:9\n",
            "on:15\n",
            "other:9\n",
            "changes,:9\n",
            "you:18\n",
            "read:10\n",
            "theNEWSfile:4\n",
            "or:9\n",
            "theUPGRADINGfile:9\n",
            "complete:9\n",
            "upgrading:9\n",
            "notes.:9\n",
            "These:9\n",
            "files:9\n",
            "also:9\n",
            "archive.The:9\n",
            "next:9\n",
            "production-ready,:1\n",
            "general:1\n",
            "release,:1\n",
            "planned:9\n",
            "December:1\n",
            "8th:1\n",
            "2022.The:9\n",
            "signatures:9\n",
            "inthe:4\n",
            "manifestor:4\n",
            "onthe:4\n",
            "QA:4\n",
            "site.Thank:9\n",
            "helping:9\n",
            "us:9\n",
            "make:9\n",
            "better.24:1\n",
            "8.1.13:2\n",
            "8.1.13.:1\n",
            "theChangeLog.10:1\n",
            "6:2\n",
            "6.:1\n",
            "sixth:2\n",
            "candidate:10\n",
            "(RC:7\n",
            "7),:1\n",
            "24th:1\n",
            "better.03:1\n",
            "7.4.33:2\n",
            "7.4.33.This:1\n",
            "that:1\n",
            "fixes:1\n",
            "OOB:1\n",
            "due:1\n",
            "insufficient:1\n",
            "input:1\n",
            "validation:1\n",
            "imageloadfont(),:1\n",
            "buffer:1\n",
            "overflow:1\n",
            "hash_update():1\n",
            "long:1\n",
            "parameter.All:1\n",
            "7.4:2\n",
            "theChangeLog.28:2\n",
            "Oct:5\n",
            "8.1.12:2\n",
            "8.1.12.:1\n",
            "8.0.25:2\n",
            "8.0.25.:1\n",
            "theChangeLog.27:1\n",
            "RC5:2\n",
            "fifth:2\n",
            "5.:1\n",
            "continues:5\n",
            "theNEWSfile,:5\n",
            "6),:1\n",
            "10th:1\n",
            "themanifestor:5\n",
            "theQA:5\n",
            "better.13:1\n",
            "4:2\n",
            "4.:1\n",
            "fourth:2\n",
            "5),:1\n",
            "27:1\n",
            "October:1\n",
            "better.30:1\n",
            "Sep:8\n",
            "8.0.24:2\n",
            "8.0.24.:1\n",
            "theChangeLog.29:2\n",
            "RC3:2\n",
            "third:3\n",
            "3.:2\n",
            "4),:1\n",
            "13th:1\n",
            "better.29:1\n",
            "8.1.11:2\n",
            "8.1.11.:1\n",
            "7.4.32:2\n",
            "7.4.32.:1\n",
            "release.This:1\n",
            "addresses:1\n",
            "infinite:1\n",
            "recursion:1\n",
            "specially:1\n",
            "constructed:1\n",
            "phar:1\n",
            "files,:1\n",
            "prevents:1\n",
            "clash:1\n",
            "variable:1\n",
            "name:1\n",
            "mangling:1\n",
            "__Host/__Secure:1\n",
            "HTTP:1\n",
            "headers.All:1\n",
            "theChangeLog.15:1\n",
            "RC2:1\n",
            "2.:2\n",
            "second:3\n",
            "2:3\n",
            "3),:1\n",
            "29:1\n",
            "September:1\n",
            "better.01:2\n",
            "RC1:2\n",
            "first:2\n",
            "1.:1\n",
            "2),:1\n",
            "Sept:2\n",
            "15th:1\n",
            "8.0.23:2\n",
            "8.0.23.:1\n",
            "theChangeLog.01:1\n",
            "8.1.10:2\n",
            "8.1.10.:1\n",
            "theChangeLog.18:1\n",
            "Aug:5\n",
            "Beta:7\n",
            "3:2\n",
            "beta:2\n",
            "1),:1\n",
            "1:1\n",
            "better.04:2\n",
            "8.1.9:2\n",
            "8.1.9.:1\n",
            "theChangeLog.04:1\n",
            "3,:1\n",
            "18:1\n",
            "8.0.22:2\n",
            "8.0.22.:1\n",
            "theChangeLog.Older:1\n",
            "News:1\n",
            "EntriesUpcoming:1\n",
            "conferencesInternational:1\n",
            "Conference:1\n",
            "Berlin:1\n",
            "2023php[tek]:1\n",
            "2023:1\n",
            "-:1\n",
            "Chicago,:1\n",
            "ILUser:1\n",
            "Group:1\n",
            "EventsSpecial:1\n",
            "ThanksSocial:1\n",
            "media@official_phpCopyright:1\n",
            "©:1\n",
            "2001-2023:1\n",
            "GroupMy:1\n",
            "PHP.netContactOther:1\n",
            "PHP.net:1\n",
            "sitesPrivacy:1\n",
            "policyView:1\n",
            "Source:1\n"
          ]
        }
      ]
    },
    {
      "cell_type": "markdown",
      "source": [
        "**Use plot diagram for showing tokens**"
      ],
      "metadata": {
        "id": "tQBxka8_4R_b"
      }
    },
    {
      "cell_type": "code",
      "source": [
        "freq.plot(20, cumulative=False)"
      ],
      "metadata": {
        "colab": {
          "base_uri": "https://localhost:8080/",
          "height": 340
        },
        "id": "1bm1-IKe4SRo",
        "outputId": "7a847f8e-7163-475e-e4dd-17b393941a63"
      },
      "execution_count": null,
      "outputs": [
        {
          "output_type": "display_data",
          "data": {
            "text/plain": [
              "<Figure size 432x288 with 1 Axes>"
            ],
            "image/png": "[encoded data removed]"
          },
          "metadata": {
            "needs_background": "light"
          }
        },
        {
          "output_type": "execute_result",
          "data": {
            "text/plain": [
              "<matplotlib.axes._subplots.AxesSubplot at 0x7f24cf0be580>"
            ]
          },
          "metadata": {},
          "execution_count": 15
        }
      ]
    },
    {
      "cell_type": "markdown",
      "source": [
        "**Import stopwords from nltk**"
      ],
      "metadata": {
        "id": "ta1_0oM166n5"
      }
    },
    {
      "cell_type": "code",
      "source": [
        "import nltk\n",
        "nltk.download('stopwords')\n",
        "from nltk.corpus import stopwords\n",
        "stopwords.words('english')"
      ],
      "metadata": {
        "colab": {
          "base_uri": "https://localhost:8080/"
        },
        "id": "JFX70DPC664j",
        "outputId": "65f90a19-bf2f-4845-c672-b6528b266745"
      },
      "execution_count": null,
      "outputs": [
        {
          "output_type": "stream",
          "name": "stderr",
          "text": [
            "[nltk_data] Downloading package stopwords to /root/nltk_data...\n",
            "[nltk_data]   Unzipping corpora/stopwords.zip.\n"
          ]
        },
        {
          "output_type": "execute_result",
          "data": {
            "text/plain": [
              "['i',\n",
              " 'me',\n",
              " 'my',\n",
              " 'myself',\n",
              " 'we',\n",
              " 'our',\n",
              " 'ours',\n",
              " 'ourselves',\n",
              " 'you',\n",
              " \"you're\",\n",
              " \"you've\",\n",
              " \"you'll\",\n",
              " \"you'd\",\n",
              " 'your',\n",
              " 'yours',\n",
              " 'yourself',\n",
              " 'yourselves',\n",
              " 'he',\n",
              " 'him',\n",
              " 'his',\n",
              " 'himself',\n",
              " 'she',\n",
              " \"she's\",\n",
              " 'her',\n",
              " 'hers',\n",
              " 'herself',\n",
              " 'it',\n",
              " \"it's\",\n",
              " 'its',\n",
              " 'itself',\n",
              " 'they',\n",
              " 'them',\n",
              " 'their',\n",
              " 'theirs',\n",
              " 'themselves',\n",
              " 'what',\n",
              " 'which',\n",
              " 'who',\n",
              " 'whom',\n",
              " 'this',\n",
              " 'that',\n",
              " \"that'll\",\n",
              " 'these',\n",
              " 'those',\n",
              " 'am',\n",
              " 'is',\n",
              " 'are',\n",
              " 'was',\n",
              " 'were',\n",
              " 'be',\n",
              " 'been',\n",
              " 'being',\n",
              " 'have',\n",
              " 'has',\n",
              " 'had',\n",
              " 'having',\n",
              " 'do',\n",
              " 'does',\n",
              " 'did',\n",
              " 'doing',\n",
              " 'a',\n",
              " 'an',\n",
              " 'the',\n",
              " 'and',\n",
              " 'but',\n",
              " 'if',\n",
              " 'or',\n",
              " 'because',\n",
              " 'as',\n",
              " 'until',\n",
              " 'while',\n",
              " 'of',\n",
              " 'at',\n",
              " 'by',\n",
              " 'for',\n",
              " 'with',\n",
              " 'about',\n",
              " 'against',\n",
              " 'between',\n",
              " 'into',\n",
              " 'through',\n",
              " 'during',\n",
              " 'before',\n",
              " 'after',\n",
              " 'above',\n",
              " 'below',\n",
              " 'to',\n",
              " 'from',\n",
              " 'up',\n",
              " 'down',\n",
              " 'in',\n",
              " 'out',\n",
              " 'on',\n",
              " 'off',\n",
              " 'over',\n",
              " 'under',\n",
              " 'again',\n",
              " 'further',\n",
              " 'then',\n",
              " 'once',\n",
              " 'here',\n",
              " 'there',\n",
              " 'when',\n",
              " 'where',\n",
              " 'why',\n",
              " 'how',\n",
              " 'all',\n",
              " 'any',\n",
              " 'both',\n",
              " 'each',\n",
              " 'few',\n",
              " 'more',\n",
              " 'most',\n",
              " 'other',\n",
              " 'some',\n",
              " 'such',\n",
              " 'no',\n",
              " 'nor',\n",
              " 'not',\n",
              " 'only',\n",
              " 'own',\n",
              " 'same',\n",
              " 'so',\n",
              " 'than',\n",
              " 'too',\n",
              " 'very',\n",
              " 's',\n",
              " 't',\n",
              " 'can',\n",
              " 'will',\n",
              " 'just',\n",
              " 'don',\n",
              " \"don't\",\n",
              " 'should',\n",
              " \"should've\",\n",
              " 'now',\n",
              " 'd',\n",
              " 'll',\n",
              " 'm',\n",
              " 'o',\n",
              " 're',\n",
              " 've',\n",
              " 'y',\n",
              " 'ain',\n",
              " 'aren',\n",
              " \"aren't\",\n",
              " 'couldn',\n",
              " \"couldn't\",\n",
              " 'didn',\n",
              " \"didn't\",\n",
              " 'doesn',\n",
              " \"doesn't\",\n",
              " 'hadn',\n",
              " \"hadn't\",\n",
              " 'hasn',\n",
              " \"hasn't\",\n",
              " 'haven',\n",
              " \"haven't\",\n",
              " 'isn',\n",
              " \"isn't\",\n",
              " 'ma',\n",
              " 'mightn',\n",
              " \"mightn't\",\n",
              " 'mustn',\n",
              " \"mustn't\",\n",
              " 'needn',\n",
              " \"needn't\",\n",
              " 'shan',\n",
              " \"shan't\",\n",
              " 'shouldn',\n",
              " \"shouldn't\",\n",
              " 'wasn',\n",
              " \"wasn't\",\n",
              " 'weren',\n",
              " \"weren't\",\n",
              " 'won',\n",
              " \"won't\",\n",
              " 'wouldn',\n",
              " \"wouldn't\"]"
            ]
          },
          "metadata": {},
          "execution_count": 16
        }
      ]
    },
    {
      "cell_type": "markdown",
      "source": [
        "**Clean the stop words**"
      ],
      "metadata": {
        "id": "ARROzrco8Jsl"
      }
    },
    {
      "cell_type": "code",
      "source": [
        "clean_tokens = tokens[:]\n",
        "sr = stopwords.words('english')\n",
        "for token in tokens:\n",
        "\n",
        "    if token in stopwords.words('english'):\n",
        "\n",
        "        clean_tokens.remove(token)"
      ],
      "metadata": {
        "id": "CtKUVHae8J8d"
      },
      "execution_count": null,
      "outputs": []
    },
    {
      "cell_type": "markdown",
      "source": [
        "**Plot diagram**"
      ],
      "metadata": {
        "id": "HU8cauGK_4Q6"
      }
    },
    {
      "cell_type": "code",
      "source": [
        "freq.plot(20, cumulative=False)"
      ],
      "metadata": {
        "colab": {
          "base_uri": "https://localhost:8080/",
          "height": 340
        },
        "id": "7vLVCvmT_4nl",
        "outputId": "875d144d-6ac2-4901-ae91-926c6784351a"
      },
      "execution_count": null,
      "outputs": [
        {
          "output_type": "display_data",
          "data": {
            "text/plain": [
              "<Figure size 432x288 with 1 Axes>"
            ],
            "image/png": "[encoded data removed]"
          },
          "metadata": {
            "needs_background": "light"
          }
        },
        {
          "output_type": "execute_result",
          "data": {
            "text/plain": [
              "<matplotlib.axes._subplots.AxesSubplot at 0x7f24cec12ac0>"
            ]
          },
          "metadata": {},
          "execution_count": 18
        }
      ]
    }
  ]
}